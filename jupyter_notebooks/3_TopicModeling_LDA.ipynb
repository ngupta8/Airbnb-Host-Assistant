{
 "cells": [
  {
   "cell_type": "markdown",
   "metadata": {},
   "source": [
    "------\n",
    "### Metis: Project Fletcher \n",
    ">  Neha Gupta                \n",
    ">  Date: 3/1/2019\n",
    "-------"
   ]
  },
  {
   "cell_type": "markdown",
   "metadata": {},
   "source": [
    "### Import Libraries"
   ]
  },
  {
   "cell_type": "code",
   "execution_count": 82,
   "metadata": {},
   "outputs": [],
   "source": [
    "import pandas as pd\n",
    "import os\n",
    "import re\n",
    "import pprint\n",
    "import nltk\n",
    "nltk.data.path.append(\"/Users/admin/nltk_data/corpora/words\")\n",
    "from nltk import word_tokenize\n",
    "from nltk.tokenize import RegexpTokenizer\n",
    "from nltk.corpus import stopwords\n",
    "from nltk.stem import WordNetLemmatizer\n",
    "from sklearn.feature_extraction.text import CountVectorizer \n",
    "import warnings\n",
    "warnings.filterwarnings(\"ignore\")\n",
    "from gensim.corpora.dictionary import Dictionary\n",
    "from gensim.models.tfidfmodel import TfidfModel\n",
    "from gensim.models.ldamodel import LdaModel\n",
    "from sklearn import metrics\n",
    "\n",
    "import warnings\n",
    "warnings.filterwarnings(\"ignore\")\n",
    "warnings.simplefilter('ignore')\n",
    "\n",
    "import itertools\n",
    "from collections import Counter\n",
    "from collections import defaultdict\n",
    "\n",
    "import json\n",
    "import pyLDAvis.gensim\n",
    "pyLDAvis.enable_notebook()\n",
    "import matplotlib.pyplot as plt\n",
    "import matplotlib.cm as cm\n",
    "# Gensim\n",
    "import gensim\n",
    "import gensim.corpora as corpora\n",
    "from gensim.utils import simple_preprocess\n",
    "from gensim.models import CoherenceModel\n",
    "\n",
    "from sklearn import linear_model\n",
    "from sklearn.metrics import mean_squared_error, r2_score\n",
    "from sklearn.tree import DecisionTreeRegressor\n",
    "from sklearn.preprocessing import Imputer\n",
    "from sklearn.preprocessing import StandardScaler\n",
    "from sklearn.ensemble import RandomForestRegressor\n",
    "from sklearn.tree import DecisionTreeClassifier\n",
    "from sklearn.model_selection import GridSearchCV\n",
    "from sklearn import linear_model\n",
    "from sklearn.linear_model import SGDClassifier\n",
    "from sklearn.model_selection import cross_val_score\n",
    "from sklearn.model_selection import train_test_split\n",
    "from sklearn.metrics import classification_report\n",
    "from sklearn.metrics import confusion_matrix\n",
    "from sklearn.model_selection import train_test_split\n",
    "from sklearn.feature_extraction.text import TfidfVectorizer, CountVectorizer\n",
    "from sklearn.decomposition import TruncatedSVD\n",
    "\n",
    "import seaborn as sns\n",
    "import pickle"
   ]
  },
  {
   "cell_type": "markdown",
   "metadata": {},
   "source": [
    "#### Download words from nltk"
   ]
  },
  {
   "cell_type": "code",
   "execution_count": 2,
   "metadata": {},
   "outputs": [],
   "source": [
    "# nltk.download('words')"
   ]
  },
  {
   "cell_type": "markdown",
   "metadata": {},
   "source": [
    "#### Import data in dataframe"
   ]
  },
  {
   "cell_type": "code",
   "execution_count": 3,
   "metadata": {},
   "outputs": [],
   "source": [
    "df_airbnb = pd.read_csv(\"./airbnb28.csv\")\n",
    "df_airbnb = df_airbnb.drop(df_airbnb.columns[0], axis=1)\n",
    "# print(\"Dataset has {} rows, {} columns.\".format(*df_airbnb.shape))"
   ]
  },
  {
   "cell_type": "code",
   "execution_count": 4,
   "metadata": {},
   "outputs": [],
   "source": [
    "# df_airbnb = pd.read_pickle(\"./df_airbnb_cleaned.pkl\")"
   ]
  },
  {
   "cell_type": "code",
   "execution_count": 5,
   "metadata": {},
   "outputs": [],
   "source": [
    "# print(\"Dataset has {} rows, {} columns.\".format(*df_airbnb.shape))"
   ]
  },
  {
   "cell_type": "markdown",
   "metadata": {},
   "source": [
    "__Check data in dataframe__"
   ]
  },
  {
   "cell_type": "code",
   "execution_count": 6,
   "metadata": {},
   "outputs": [],
   "source": [
    "# df_airbnb.head(2)"
   ]
  },
  {
   "cell_type": "code",
   "execution_count": 7,
   "metadata": {},
   "outputs": [],
   "source": [
    "# df_airbnb.describe()"
   ]
  },
  {
   "cell_type": "markdown",
   "metadata": {},
   "source": [
    "__Make a new dataframe of 'decription' feature__"
   ]
  },
  {
   "cell_type": "code",
   "execution_count": 8,
   "metadata": {},
   "outputs": [],
   "source": [
    "corpus_description = df_airbnb['description'].astype(str)"
   ]
  },
  {
   "cell_type": "code",
   "execution_count": 9,
   "metadata": {},
   "outputs": [],
   "source": [
    "# corpus_description.head()"
   ]
  },
  {
   "cell_type": "code",
   "execution_count": 10,
   "metadata": {},
   "outputs": [
    {
     "data": {
      "text/plain": [
       "CountVectorizer(analyzer='word', binary=False, decode_error='strict',\n",
       "        dtype=<class 'numpy.int64'>, encoding='utf-8', input='content',\n",
       "        lowercase=True, max_df=1.0, max_features=None, min_df=1,\n",
       "        ngram_range=(1, 2), preprocessor=None, stop_words='english',\n",
       "        strip_accents=None, token_pattern='\\\\b[a-z][a-z]+\\\\b',\n",
       "        tokenizer=None, vocabulary=None)"
      ]
     },
     "execution_count": 10,
     "metadata": {},
     "output_type": "execute_result"
    }
   ],
   "source": [
    "count_vectorizer = CountVectorizer(ngram_range=(1, 2),  \n",
    "                                   stop_words='english', token_pattern=\"\\\\b[a-z][a-z]+\\\\b\")\n",
    "\n",
    "count_vectorizer.fit(corpus_description)"
   ]
  },
  {
   "cell_type": "code",
   "execution_count": 11,
   "metadata": {},
   "outputs": [],
   "source": [
    "doc_word = count_vectorizer.transform(corpus_description)"
   ]
  },
  {
   "cell_type": "code",
   "execution_count": 12,
   "metadata": {},
   "outputs": [],
   "source": [
    "# pd.DataFrame(doc_word.toarray())"
   ]
  },
  {
   "cell_type": "markdown",
   "metadata": {},
   "source": [
    "## Text Pre-processing\n",
    "\n",
    "_Creating a function to pre-process text_"
   ]
  },
  {
   "cell_type": "code",
   "execution_count": 13,
   "metadata": {},
   "outputs": [],
   "source": [
    "def preprocess_text(corpus):\n",
    "    \"\"\"Takes a corpus in list format and applies basic preprocessing steps of word tokenization,\n",
    "     removing of english stop words, lower case and lemmatization.\"\"\"\n",
    "    processed_corpus = []\n",
    "    english_words = set(nltk.corpus.words.words())\n",
    "    english_stopwords = set(stopwords.words('english'))\n",
    "    english_stopwords.update(['san', 'francisco','de','de_sac','one','din','like','cotton','non','able','meet','give','mostly','anything','always','zero','live','alone','available','build','need','build','great','live','full','square','house','two','away','area','size','access','mission','stay','place','check','also','beautiful','easy','unit','din','please','make'])  \n",
    "    wordnet_lemmatizer = WordNetLemmatizer()\n",
    "    tokenizer = RegexpTokenizer(r'[\\w|!]+')\n",
    "    for row in corpus:\n",
    "        word_tokens = tokenizer.tokenize(row)\n",
    "        word_tokens_lower = [t.lower() for t in word_tokens]\n",
    "        word_tokens_lower_english = [t for t in word_tokens_lower if t in english_words]\n",
    "        word_tokens_no_stops = [t for t in word_tokens_lower_english if not t in english_stopwords]\n",
    "        \n",
    "        word_tokens_no_stops_lemmatized = []\n",
    "        for t in word_tokens_no_stops:\n",
    "            lemma_v= wordnet_lemmatizer.lemmatize(t,pos='v')\n",
    "            lemma_n = lemma= wordnet_lemmatizer.lemmatize(t)\n",
    "            if t!=lemma_v:\n",
    "                word_tokens_no_stops_lemmatized.append(lemma_v)\n",
    "            else:\n",
    "                word_tokens_no_stops_lemmatized.append(lemma_n)\n",
    "        word_tokens_no_stops_lemmatized_rm_sigleword = [t for t in word_tokens_no_stops_lemmatized if len(t)>1]\n",
    "        processed_corpus.append(word_tokens_no_stops_lemmatized_rm_sigleword)\n",
    "    return processed_corpus    \n"
   ]
  },
  {
   "cell_type": "code",
   "execution_count": 14,
   "metadata": {},
   "outputs": [],
   "source": [
    "final_processed_decription = preprocess_text(corpus_description)"
   ]
  },
  {
   "cell_type": "code",
   "execution_count": 15,
   "metadata": {},
   "outputs": [],
   "source": [
    "# with open('final_processed_data.pkl', 'wb') as f:\n",
    "#     pickle.dump(final_processed_decription, f)"
   ]
  },
  {
   "cell_type": "markdown",
   "metadata": {},
   "source": [
    "__Checking word counts in decsending order__"
   ]
  },
  {
   "cell_type": "code",
   "execution_count": 16,
   "metadata": {},
   "outputs": [],
   "source": [
    "# result = defaultdict(int)\n",
    "# for i in final_processed_decription:\n",
    "#     for j in i:\n",
    "#         result[j]+=1\n",
    "\n",
    "# sorted_by_value = sorted(result.items(), key=lambda kv: kv[1],reverse = True)"
   ]
  },
  {
   "cell_type": "code",
   "execution_count": 17,
   "metadata": {},
   "outputs": [],
   "source": [
    "# sorted_by_value"
   ]
  },
  {
   "cell_type": "markdown",
   "metadata": {},
   "source": [
    "### Document-Term Matrix"
   ]
  },
  {
   "cell_type": "code",
   "execution_count": 18,
   "metadata": {},
   "outputs": [],
   "source": [
    "dictionary = Dictionary(final_processed_decription)\n",
    "# Convert corpus into Document Term Matrix using dictionary prepared above\n",
    "doc_term_matrix = [dictionary.doc2bow(listing) for listing in final_processed_decription]"
   ]
  },
  {
   "cell_type": "code",
   "execution_count": 19,
   "metadata": {},
   "outputs": [],
   "source": [
    "# doc_term_matrix"
   ]
  },
  {
   "cell_type": "code",
   "execution_count": 20,
   "metadata": {},
   "outputs": [],
   "source": [
    "# for keys,values in dictionary.items():\n",
    "#     print(keys,values)\n",
    "# #     print(values)\n"
   ]
  },
  {
   "cell_type": "markdown",
   "metadata": {},
   "source": [
    "### LDA Model"
   ]
  },
  {
   "cell_type": "code",
   "execution_count": 21,
   "metadata": {},
   "outputs": [],
   "source": [
    "LDA = LdaModel\n",
    "# load corpus iterator\n",
    "# mm = MmCorpus('wiki_en_tfidf.mm')\n",
    "ldamodel = LDA(doc_term_matrix, num_topics=3, id2word = dictionary,passes=10,minimum_probability=0.001,random_state=0)            \n",
    "               \n",
    "               "
   ]
  },
  {
   "cell_type": "markdown",
   "metadata": {},
   "source": [
    "__Print Topics__"
   ]
  },
  {
   "cell_type": "code",
   "execution_count": 22,
   "metadata": {},
   "outputs": [
    {
     "name": "stdout",
     "output_type": "stream",
     "text": [
      "Topic: 0 \n",
      "Words: 0.016*\"kitchen\" + 0.016*\"home\" + 0.016*\"bedroom\" + 0.015*\"room\" + 0.013*\"apartment\" + 0.013*\"live\" + 0.011*\"large\" + 0.011*\"modern\" + 0.010*\"city\" + 0.010*\"build\"\n",
      "\n",
      "\n",
      "Topic: 1 \n",
      "Words: 0.039*\"room\" + 0.028*\"private\" + 0.024*\"bed\" + 0.018*\"bathroom\" + 0.018*\"bedroom\" + 0.014*\"kitchen\" + 0.013*\"queen\" + 0.013*\"live\" + 0.012*\"space\" + 0.010*\"floor\"\n",
      "\n",
      "\n",
      "Topic: 2 \n",
      "Words: 0.032*\"park\" + 0.030*\"walk\" + 0.020*\"street\" + 0.015*\"neighborhood\" + 0.015*\"gate\" + 0.014*\"golden\" + 0.013*\"downtown\" + 0.013*\"close\" + 0.012*\"apartment\" + 0.010*\"bus\"\n",
      "\n",
      "\n"
     ]
    }
   ],
   "source": [
    "for idx, topic in ldamodel.print_topics(-1):\n",
    "    print(\"Topic: {} \\nWords: {}\".format(idx, topic ))\n",
    "    print(\"\\n\")"
   ]
  },
  {
   "cell_type": "markdown",
   "metadata": {},
   "source": [
    "__Providing Topic Name__"
   ]
  },
  {
   "cell_type": "code",
   "execution_count": 23,
   "metadata": {},
   "outputs": [],
   "source": [
    "docTopicProbMat = ldamodel[doc_term_matrix]\n",
    "l_topics = ['room_details', 'neighborhood_details', 'house_details']\n",
    "docTopicProbDf = pd.DataFrame(index=df_airbnb.index, columns=l_topics)\n",
    "for i, doc in enumerate(docTopicProbMat):\n",
    "    for topic in doc:\n",
    "        docTopicProbDf.iloc[i, topic[0]] = topic[1]"
   ]
  },
  {
   "cell_type": "code",
   "execution_count": 24,
   "metadata": {},
   "outputs": [],
   "source": [
    "# docTopicProbDf.idxmax(axis=1)\n",
    "# df_topics = docTopicProbDf['topics']\n",
    "# Merge with df\n",
    "df_with_topics = pd.concat([df_airbnb, docTopicProbDf], axis=1)"
   ]
  },
  {
   "cell_type": "code",
   "execution_count": 25,
   "metadata": {},
   "outputs": [
    {
     "data": {
      "text/plain": [
       "(25125, 18)"
      ]
     },
     "execution_count": 25,
     "metadata": {},
     "output_type": "execute_result"
    }
   ],
   "source": [
    "df_with_topics.shape"
   ]
  },
  {
   "cell_type": "markdown",
   "metadata": {},
   "source": [
    "### LDA with Gensim : This modeling is providing good topics\n",
    "__Creating Bigram and Trigram Models__"
   ]
  },
  {
   "cell_type": "code",
   "execution_count": 28,
   "metadata": {},
   "outputs": [],
   "source": [
    "# Build the bigram and trigram models\n",
    "bigram = gensim.models.Phrases(final_processed_decription, min_count=5, threshold=100) # higher threshold fewer phrases.\n",
    "trigram = gensim.models.Phrases(bigram[final_processed_decription], threshold=100)  \n",
    "\n",
    "# Faster way to get a sentence clubbed as a trigram/bigram\n",
    "bigram_mod = gensim.models.phrases.Phraser(bigram)\n",
    "trigram_mod = gensim.models.phrases.Phraser(trigram)\n",
    "\n",
    "# See trigram example\n",
    "# print(trigram_mod[bigram_mod[final_processed_decription[0]]])\n",
    "\n",
    "\n"
   ]
  },
  {
   "cell_type": "markdown",
   "metadata": {},
   "source": [
    "__Here output is showing (word_id, word_frequency) in document__"
   ]
  },
  {
   "cell_type": "code",
   "execution_count": 29,
   "metadata": {},
   "outputs": [
    {
     "name": "stdout",
     "output_type": "stream",
     "text": [
      "[[(0, 2), (1, 1), (2, 2), (3, 1), (4, 2), (5, 1), (6, 1), (7, 1), (8, 1), (9, 1), (10, 1), (11, 2), (12, 1), (13, 2), (14, 1), (15, 2), (16, 3), (17, 1), (18, 1), (19, 1), (20, 1), (21, 1), (22, 1), (23, 1), (24, 1), (25, 2), (26, 1), (27, 1), (28, 2), (29, 1), (30, 1), (31, 1), (32, 1), (33, 2), (34, 1), (35, 1), (36, 1), (37, 1), (38, 1), (39, 1), (40, 1), (41, 2), (42, 1), (43, 1), (44, 1), (45, 1), (46, 1), (47, 1), (48, 1), (49, 2), (50, 1)]]\n"
     ]
    }
   ],
   "source": [
    "# Create Dictionary\n",
    "id2word = corpora.Dictionary(final_processed_decription)\n",
    "\n",
    "# Create Corpus\n",
    "texts = final_processed_decription\n",
    "\n",
    "# Term Document Frequency\n",
    "corpus = [id2word.doc2bow(text) for text in texts]\n",
    "\n",
    "\n",
    "# View\n",
    "print(corpus[:1])"
   ]
  },
  {
   "cell_type": "code",
   "execution_count": 30,
   "metadata": {},
   "outputs": [],
   "source": [
    "# Readable format of corpus (term-frequency)\n",
    "# [[(id2word[id], freq) for id, freq in cp] for cp in corpus[:1]]"
   ]
  },
  {
   "cell_type": "code",
   "execution_count": 31,
   "metadata": {},
   "outputs": [],
   "source": [
    "### Building the Topic Model"
   ]
  },
  {
   "cell_type": "code",
   "execution_count": 32,
   "metadata": {},
   "outputs": [],
   "source": [
    "# Build LDA model\n",
    "lda_model = gensim.models.ldamodel.LdaModel(corpus=corpus,\n",
    "                                           id2word=id2word,\n",
    "                                           num_topics=3, \n",
    "                                           random_state=100,\n",
    "                                           update_every=1,\n",
    "                                           chunksize=100,\n",
    "                                           passes=10,\n",
    "                                           alpha='auto',\n",
    "                                           per_word_topics=True)"
   ]
  },
  {
   "cell_type": "code",
   "execution_count": 36,
   "metadata": {},
   "outputs": [
    {
     "name": "stdout",
     "output_type": "stream",
     "text": [
      "Topic: 0 \n",
      "Words: 0.015*\"home\" + 0.014*\"city\" + 0.013*\"build\" + 0.010*\"room\" + 0.010*\"enjoy\" + 0.010*\"hill\" + 0.010*\"heart\" + 0.009*\"apartment\" + 0.008*\"modern\" + 0.008*\"center\"\n",
      "\n",
      "\n",
      "Topic: 1 \n",
      "Words: 0.039*\"park\" + 0.034*\"walk\" + 0.025*\"street\" + 0.019*\"neighborhood\" + 0.018*\"gate\" + 0.017*\"downtown\" + 0.017*\"golden\" + 0.016*\"close\" + 0.013*\"public\" + 0.012*\"block\"\n",
      "\n",
      "\n",
      "Topic: 2 \n",
      "Words: 0.038*\"room\" + 0.025*\"private\" + 0.023*\"kitchen\" + 0.022*\"bed\" + 0.022*\"bedroom\" + 0.018*\"live\" + 0.017*\"bathroom\" + 0.013*\"queen\" + 0.013*\"home\" + 0.012*\"large\"\n",
      "\n",
      "\n"
     ]
    }
   ],
   "source": [
    "# Print the Keyword in the 10 topics\n",
    "# print(lda_model.print_topics())\n",
    "# doc_lda = lda_model[corpus]\n",
    "for idx, topic in lda_model.print_topics(-1):\n",
    "    print(\"Topic: {} \\nWords: {}\".format(idx, topic ))\n",
    "    print(\"\\n\")"
   ]
  },
  {
   "cell_type": "markdown",
   "metadata": {},
   "source": [
    "__Compute Model Perplexity and Coherence Score__"
   ]
  },
  {
   "cell_type": "code",
   "execution_count": 37,
   "metadata": {},
   "outputs": [
    {
     "name": "stdout",
     "output_type": "stream",
     "text": [
      "\n",
      "Perplexity:  -6.524890028905471\n",
      "\n",
      "Coherence Score:  0.4099947870542635\n"
     ]
    }
   ],
   "source": [
    "#Compute Perplexity\n",
    "print('\\nPerplexity: ', lda_model.log_perplexity(corpus))  # a measure of how good the model is. lower the better.\n",
    "\n",
    "# Compute Coherence Score\n",
    "coherence_model_lda = CoherenceModel(model=lda_model, texts=final_processed_decription, dictionary=id2word, coherence='c_v')\n",
    "coherence_lda = coherence_model_lda.get_coherence()\n",
    "print('\\nCoherence Score: ', coherence_lda)\n"
   ]
  },
  {
   "cell_type": "markdown",
   "metadata": {},
   "source": [
    "### LSA Model"
   ]
  },
  {
   "cell_type": "code",
   "execution_count": 38,
   "metadata": {},
   "outputs": [],
   "source": [
    "lsa_vectorizer = TfidfVectorizer(tokenizer=lambda i:i, lowercase=False)"
   ]
  },
  {
   "cell_type": "markdown",
   "metadata": {},
   "source": [
    "__Dimensionality Reduction__\n",
    "__Once we have document-term matrix, we can start thinking about our latent topics. Here’s the thing: in all likelihood, A is very sparse, very noisy, and very redundant across its many dimensions. As a result, to find the few latent topics that capture the relationships among the words and documents, we want to perform dimensionality reduction on matrix.__"
   ]
  },
  {
   "cell_type": "markdown",
   "metadata": {},
   "source": [
    "__Truncated SVD__"
   ]
  },
  {
   "cell_type": "code",
   "execution_count": 39,
   "metadata": {},
   "outputs": [],
   "source": [
    "# pyLDAvis.gensim.prepare(ldamodel, doc_term_matrix, dictionary)"
   ]
  },
  {
   "cell_type": "code",
   "execution_count": 40,
   "metadata": {},
   "outputs": [],
   "source": [
    "# SVD to reduce dimensionality: \n",
    "svd_model = TruncatedSVD(n_components=3,      \n",
    "                         algorithm='randomized',\n",
    "                         n_iter=100,random_state=42)"
   ]
  },
  {
   "cell_type": "code",
   "execution_count": 41,
   "metadata": {},
   "outputs": [],
   "source": [
    "from sklearn.pipeline import Pipeline\n",
    "# pipeline of tf-idf + SVD, fit to and applied to documents:\n",
    "svd_transformer = Pipeline([('tfidf', lsa_vectorizer), \n",
    "                            ('svd', svd_model)])"
   ]
  },
  {
   "cell_type": "code",
   "execution_count": 42,
   "metadata": {},
   "outputs": [],
   "source": [
    "svd_matrix = svd_transformer.fit_transform(final_processed_decription)"
   ]
  },
  {
   "cell_type": "code",
   "execution_count": 43,
   "metadata": {},
   "outputs": [
    {
     "data": {
      "text/plain": [
       "3"
      ]
     },
     "execution_count": 43,
     "metadata": {},
     "output_type": "execute_result"
    }
   ],
   "source": [
    "len(svd_model.components_)"
   ]
  },
  {
   "cell_type": "code",
   "execution_count": 44,
   "metadata": {},
   "outputs": [
    {
     "data": {
      "text/plain": [
       "11314"
      ]
     },
     "execution_count": 44,
     "metadata": {},
     "output_type": "execute_result"
    }
   ],
   "source": [
    "from sklearn.datasets import fetch_20newsgroups\n",
    "\n",
    "dataset = fetch_20newsgroups(shuffle=True, random_state=1, remove=('headers', 'footers', 'quotes'))\n",
    "documents = dataset.data\n",
    "len(documents)"
   ]
  },
  {
   "cell_type": "code",
   "execution_count": 45,
   "metadata": {},
   "outputs": [],
   "source": [
    "dfmap = df_with_topics[['room_details','neighborhood_details','house_details']].copy()\n",
    "new_col = 'topic_descriptions'\n",
    "docTopicProbMat = ldamodel[doc_term_matrix]\n",
    "# cols = ['room_details','neighborhood','house_details']\n",
    "docTopicProbDf1 = pd.DataFrame(index=dfmap.index, columns=range(3))\n",
    "for i, doc in enumerate(docTopicProbMat):\n",
    "    for topic in doc:\n",
    "        docTopicProbDf1.iloc[i, topic[0]] = topic[1]\n",
    "docTopicProbDf1[new_col] = docTopicProbDf1.astype(float).idxmax(axis=1)"
   ]
  },
  {
   "cell_type": "code",
   "execution_count": 46,
   "metadata": {},
   "outputs": [
    {
     "data": {
      "text/plain": [
       "array([1, 0, 0, ..., 1, 1, 1])"
      ]
     },
     "execution_count": 46,
     "metadata": {},
     "output_type": "execute_result"
    }
   ],
   "source": [
    "df_topics1 = docTopicProbDf1[new_col]\n",
    "# Merge with df\n",
    "df_topics1.values"
   ]
  },
  {
   "cell_type": "code",
   "execution_count": 47,
   "metadata": {},
   "outputs": [],
   "source": [
    "# import umap\n",
    "\n",
    "# embedding = umap.UMAP(n_neighbors=150, min_dist=0.5, random_state=12).fit_transform(svd_matrix)\n",
    "# plt.figure(figsize=(7,5))\n",
    "# plt.scatter(embedding[:, 0], embedding[:, 1], \n",
    "# c = df_topics1.values,\n",
    "# label = df_topics1.values,\n",
    "# s = 10, # size\n",
    "# edgecolor='none'\n",
    "# )\n",
    "# plt.colorbar()\n",
    "\n",
    "# unique_classes = list(['room_type', 'home_type', 'neighborhood'])\n",
    "# plt.table(cellText=[[x] for x in [0,1,2]], loc='lower right',\n",
    "#           colWidths=[0.2],rowColours=cmap(np.array(unique_classes)-1),\n",
    "#          rowLabels=['label%d'%x for x in unique_classes],\n",
    "#           colLabels=['classes'])\n",
    "# plt.show()"
   ]
  },
  {
   "cell_type": "code",
   "execution_count": 48,
   "metadata": {},
   "outputs": [
    {
     "name": "stdout",
     "output_type": "stream",
     "text": [
      "Topic 0: room ,  private ,  bedroom ,  park ,  kitchen ,  bed ,  home\n",
      "Topic 1: park ,  bedroom ,  home ,  room ,  kitchen ,  private ,  bed\n",
      "Topic 2: kitchen ,  private ,  home ,  park ,  bed ,  bedroom ,  room\n"
     ]
    }
   ],
   "source": [
    "terms = lsa_vectorizer.get_feature_names()\n",
    "\n",
    "for i, comp in enumerate(svd_model.components_):\n",
    "    terms_comp = zip(terms, comp)\n",
    "    sorted_terms = sorted(terms_comp, key= lambda x:x[1], reverse=True)[:7]\n",
    "    terms =  []\n",
    "    for t in sorted_terms:\n",
    "        terms.append(t[0])\n",
    "    print(\"Topic \"+str(i)+\": \" + ' ,  '.join(terms))"
   ]
  },
  {
   "cell_type": "code",
   "execution_count": 47,
   "metadata": {},
   "outputs": [
    {
     "data": {
      "image/png": "[encoded data removed]",
      "text/plain": [
       "<Figure size 432x288 with 1 Axes>"
      ]
     },
     "metadata": {
      "needs_background": "light"
     },
     "output_type": "display_data"
    }
   ],
   "source": [
    "import matplotlib.pyplot as plt\n",
    "plt.plot(svd_model.singular_values_[0:10])\n",
    "plt.show()"
   ]
  },
  {
   "cell_type": "markdown",
   "metadata": {},
   "source": [
    "### NMF Model"
   ]
  },
  {
   "cell_type": "code",
   "execution_count": 49,
   "metadata": {},
   "outputs": [],
   "source": [
    "no_features = 1000\n",
    "\n",
    "tfidf_vectorizer = TfidfVectorizer(tokenizer=lambda i:i, lowercase=False)\n",
    "tfidf = tfidf_vectorizer.fit_transform(final_processed_decription)\n",
    "tfidf_feature_names = tfidf_vectorizer.get_feature_names()"
   ]
  },
  {
   "cell_type": "code",
   "execution_count": 50,
   "metadata": {},
   "outputs": [],
   "source": [
    "from sklearn.decomposition import NMF\n",
    "no_topics = 3\n",
    "nmf = NMF(n_components=no_topics, random_state=1, alpha=.1, l1_ratio=.5, init='nndsvd').fit(tfidf)"
   ]
  },
  {
   "cell_type": "code",
   "execution_count": 51,
   "metadata": {},
   "outputs": [
    {
     "name": "stdout",
     "output_type": "stream",
     "text": [
      "Topic 0: room , private , bedroom , bed , live , kitchen , bathroom , home , large , queen\n",
      "Topic 1: park , walk , gate , golden , street , apartment , bus , downtown , beach , close\n",
      "Topic 2: registration , term , rental , short , certificate , ordinance , code , residential , number , possession\n"
     ]
    }
   ],
   "source": [
    "def display_topics(model, feature_names, no_top_words):\n",
    "    for topic_idx, topic in enumerate(model.components_):\n",
    "        print(\"Topic %d: \" % (topic_idx)+\" , \".join([feature_names[i]\n",
    "                        for i in topic.argsort()[:-no_top_words - 1:-1]]))\n",
    "\n",
    "no_top_words = 10\n",
    "display_topics(nmf, tfidf_feature_names, no_top_words)"
   ]
  },
  {
   "cell_type": "markdown",
   "metadata": {},
   "source": [
    "### K Clustring"
   ]
  },
  {
   "cell_type": "code",
   "execution_count": 52,
   "metadata": {},
   "outputs": [
    {
     "data": {
      "text/plain": [
       "KMeans(algorithm='auto', copy_x=True, init='k-means++', max_iter=1000,\n",
       "    n_clusters=3, n_init=1, n_jobs=None, precompute_distances='auto',\n",
       "    random_state=None, tol=0.0001, verbose=0)"
      ]
     },
     "execution_count": 52,
     "metadata": {},
     "output_type": "execute_result"
    }
   ],
   "source": [
    "from sklearn.cluster import KMeans\n",
    "true_k = 3\n",
    "vectorizer = TfidfVectorizer(tokenizer=lambda i:i, lowercase=False)\n",
    "cluster = vectorizer.fit_transform(final_processed_decription)\n",
    "model = KMeans(n_clusters=true_k, init='k-means++', max_iter=1000, n_init=1)\n",
    "model.fit(cluster)"
   ]
  },
  {
   "cell_type": "code",
   "execution_count": 53,
   "metadata": {},
   "outputs": [
    {
     "name": "stdout",
     "output_type": "stream",
     "text": [
      "Top terms per cluster:\n",
      "Cluster 0:park , walk , apartment , street , neighborhood , home , city , gate , golden , close\n",
      "Cluster 1:room , bedroom , live , kitchen , bed , private , bathroom , home , large , floor\n",
      "Cluster 2:private , entrance , studio , suite , garden , bed , park , bathroom , space , microwave\n"
     ]
    }
   ],
   "source": [
    "print(\"Top terms per cluster:\")\n",
    "order_centroids = model.cluster_centers_.argsort()[:, ::-1]\n",
    "terms = vectorizer.get_feature_names()\n",
    "\n",
    "for i in range(true_k):\n",
    "    top_terms = []\n",
    "    for ind in order_centroids[i, :10]:\n",
    "        top_terms.append(terms[ind])\n",
    "    print(\"Cluster %d:\" % i + ' , '.join(top_terms) )"
   ]
  },
  {
   "cell_type": "code",
   "execution_count": 54,
   "metadata": {},
   "outputs": [
    {
     "data": {
      "text/plain": [
       "0    11127\n",
       "1     9295\n",
       "2     4703\n",
       "Name: clusters, dtype: int64"
      ]
     },
     "execution_count": 54,
     "metadata": {},
     "output_type": "execute_result"
    }
   ],
   "source": [
    "clusters = model.labels_.tolist()\n",
    "frame = pd.DataFrame(clusters, columns=['clusters'])\n",
    "frame['clusters'].value_counts()"
   ]
  },
  {
   "cell_type": "code",
   "execution_count": 60,
   "metadata": {},
   "outputs": [],
   "source": [
    "df_with_some_features=df_with_topics[['accommodates','bathrooms','bedrooms','beds','guests_included','extra_people','minimum_nights','yield','room_type','property_type','bed_type', 'room_details', 'neighborhood_details', 'house_details' ]].copy()\n",
    "\n",
    "\n",
    "\n"
   ]
  },
  {
   "cell_type": "code",
   "execution_count": 61,
   "metadata": {},
   "outputs": [
    {
     "data": {
      "text/plain": [
       "(25125, 14)"
      ]
     },
     "execution_count": 61,
     "metadata": {},
     "output_type": "execute_result"
    }
   ],
   "source": [
    "df_with_some_features.shape"
   ]
  },
  {
   "cell_type": "markdown",
   "metadata": {},
   "source": [
    "__Feature selection__"
   ]
  },
  {
   "cell_type": "code",
   "execution_count": 62,
   "metadata": {},
   "outputs": [
    {
     "name": "stdout",
     "output_type": "stream",
     "text": [
      "Dataset has 25125 rows, 14 columns.\n"
     ]
    }
   ],
   "source": [
    "print(\"Dataset has {} rows, {} columns.\".format(*df_with_some_features.shape))"
   ]
  },
  {
   "cell_type": "code",
   "execution_count": 63,
   "metadata": {},
   "outputs": [
    {
     "name": "stdout",
     "output_type": "stream",
     "text": [
      "Dataset has 25125 rows, 22 columns.\n"
     ]
    },
    {
     "data": {
      "text/html": [
       "<div>\n",
       "<style scoped>\n",
       "    .dataframe tbody tr th:only-of-type {\n",
       "        vertical-align: middle;\n",
       "    }\n",
       "\n",
       "    .dataframe tbody tr th {\n",
       "        vertical-align: top;\n",
       "    }\n",
       "\n",
       "    .dataframe thead th {\n",
       "        text-align: right;\n",
       "    }\n",
       "</style>\n",
       "<table border=\"1\" class=\"dataframe\">\n",
       "  <thead>\n",
       "    <tr style=\"text-align: right;\">\n",
       "      <th></th>\n",
       "      <th>accommodates</th>\n",
       "      <th>bathrooms</th>\n",
       "      <th>bedrooms</th>\n",
       "      <th>beds</th>\n",
       "      <th>guests_included</th>\n",
       "      <th>extra_people</th>\n",
       "      <th>minimum_nights</th>\n",
       "      <th>yield</th>\n",
       "      <th>room_details</th>\n",
       "      <th>neighborhood_details</th>\n",
       "      <th>...</th>\n",
       "      <th>property_type_Bed &amp; Breakfast</th>\n",
       "      <th>property_type_Boutique hotel</th>\n",
       "      <th>property_type_Condominium</th>\n",
       "      <th>property_type_House</th>\n",
       "      <th>property_type_Other</th>\n",
       "      <th>room_type_Entire home/apt</th>\n",
       "      <th>room_type_Private room</th>\n",
       "      <th>room_type_Shared room</th>\n",
       "      <th>bed_type_Non-Real Bed</th>\n",
       "      <th>bed_type_Real Bed</th>\n",
       "    </tr>\n",
       "  </thead>\n",
       "  <tbody>\n",
       "    <tr>\n",
       "      <th>0</th>\n",
       "      <td>3.0</td>\n",
       "      <td>1.0</td>\n",
       "      <td>1.0</td>\n",
       "      <td>2.0</td>\n",
       "      <td>2.0</td>\n",
       "      <td>25.0</td>\n",
       "      <td>1.0</td>\n",
       "      <td>39693.6</td>\n",
       "      <td>0.298948</td>\n",
       "      <td>0.694962</td>\n",
       "      <td>...</td>\n",
       "      <td>0</td>\n",
       "      <td>0</td>\n",
       "      <td>0</td>\n",
       "      <td>0</td>\n",
       "      <td>0</td>\n",
       "      <td>1</td>\n",
       "      <td>0</td>\n",
       "      <td>0</td>\n",
       "      <td>0</td>\n",
       "      <td>1</td>\n",
       "    </tr>\n",
       "    <tr>\n",
       "      <th>1</th>\n",
       "      <td>5.0</td>\n",
       "      <td>1.5</td>\n",
       "      <td>2.0</td>\n",
       "      <td>2.0</td>\n",
       "      <td>2.0</td>\n",
       "      <td>150.0</td>\n",
       "      <td>7.0</td>\n",
       "      <td>21340.8</td>\n",
       "      <td>0.729041</td>\n",
       "      <td>0.00609895</td>\n",
       "      <td>...</td>\n",
       "      <td>0</td>\n",
       "      <td>0</td>\n",
       "      <td>0</td>\n",
       "      <td>1</td>\n",
       "      <td>0</td>\n",
       "      <td>1</td>\n",
       "      <td>0</td>\n",
       "      <td>0</td>\n",
       "      <td>0</td>\n",
       "      <td>1</td>\n",
       "    </tr>\n",
       "    <tr>\n",
       "      <th>2</th>\n",
       "      <td>6.0</td>\n",
       "      <td>1.0</td>\n",
       "      <td>2.0</td>\n",
       "      <td>3.0</td>\n",
       "      <td>1.0</td>\n",
       "      <td>0.0</td>\n",
       "      <td>2.0</td>\n",
       "      <td>10180.8</td>\n",
       "      <td>0.57053</td>\n",
       "      <td>0.424268</td>\n",
       "      <td>...</td>\n",
       "      <td>0</td>\n",
       "      <td>0</td>\n",
       "      <td>0</td>\n",
       "      <td>0</td>\n",
       "      <td>0</td>\n",
       "      <td>1</td>\n",
       "      <td>0</td>\n",
       "      <td>0</td>\n",
       "      <td>0</td>\n",
       "      <td>1</td>\n",
       "    </tr>\n",
       "    <tr>\n",
       "      <th>3</th>\n",
       "      <td>3.0</td>\n",
       "      <td>1.0</td>\n",
       "      <td>1.0</td>\n",
       "      <td>2.0</td>\n",
       "      <td>2.0</td>\n",
       "      <td>60.0</td>\n",
       "      <td>1.0</td>\n",
       "      <td>94644.0</td>\n",
       "      <td>0.00585081</td>\n",
       "      <td>0.920003</td>\n",
       "      <td>...</td>\n",
       "      <td>0</td>\n",
       "      <td>0</td>\n",
       "      <td>1</td>\n",
       "      <td>0</td>\n",
       "      <td>0</td>\n",
       "      <td>0</td>\n",
       "      <td>1</td>\n",
       "      <td>0</td>\n",
       "      <td>0</td>\n",
       "      <td>1</td>\n",
       "    </tr>\n",
       "    <tr>\n",
       "      <th>4</th>\n",
       "      <td>3.0</td>\n",
       "      <td>1.0</td>\n",
       "      <td>1.0</td>\n",
       "      <td>2.0</td>\n",
       "      <td>2.0</td>\n",
       "      <td>35.0</td>\n",
       "      <td>3.0</td>\n",
       "      <td>24300.0</td>\n",
       "      <td>0.988086</td>\n",
       "      <td>0.00634775</td>\n",
       "      <td>...</td>\n",
       "      <td>0</td>\n",
       "      <td>0</td>\n",
       "      <td>0</td>\n",
       "      <td>0</td>\n",
       "      <td>0</td>\n",
       "      <td>1</td>\n",
       "      <td>0</td>\n",
       "      <td>0</td>\n",
       "      <td>0</td>\n",
       "      <td>1</td>\n",
       "    </tr>\n",
       "  </tbody>\n",
       "</table>\n",
       "<p>5 rows × 22 columns</p>\n",
       "</div>"
      ],
      "text/plain": [
       "   accommodates  bathrooms  bedrooms  beds  guests_included  extra_people  \\\n",
       "0           3.0        1.0       1.0   2.0              2.0          25.0   \n",
       "1           5.0        1.5       2.0   2.0              2.0         150.0   \n",
       "2           6.0        1.0       2.0   3.0              1.0           0.0   \n",
       "3           3.0        1.0       1.0   2.0              2.0          60.0   \n",
       "4           3.0        1.0       1.0   2.0              2.0          35.0   \n",
       "\n",
       "   minimum_nights    yield room_details neighborhood_details  \\\n",
       "0             1.0  39693.6     0.298948             0.694962   \n",
       "1             7.0  21340.8     0.729041           0.00609895   \n",
       "2             2.0  10180.8      0.57053             0.424268   \n",
       "3             1.0  94644.0   0.00585081             0.920003   \n",
       "4             3.0  24300.0     0.988086           0.00634775   \n",
       "\n",
       "         ...         property_type_Bed & Breakfast  \\\n",
       "0        ...                                     0   \n",
       "1        ...                                     0   \n",
       "2        ...                                     0   \n",
       "3        ...                                     0   \n",
       "4        ...                                     0   \n",
       "\n",
       "   property_type_Boutique hotel  property_type_Condominium  \\\n",
       "0                             0                          0   \n",
       "1                             0                          0   \n",
       "2                             0                          0   \n",
       "3                             0                          1   \n",
       "4                             0                          0   \n",
       "\n",
       "   property_type_House  property_type_Other  room_type_Entire home/apt  \\\n",
       "0                    0                    0                          1   \n",
       "1                    1                    0                          1   \n",
       "2                    0                    0                          1   \n",
       "3                    0                    0                          0   \n",
       "4                    0                    0                          1   \n",
       "\n",
       "   room_type_Private room  room_type_Shared room  bed_type_Non-Real Bed  \\\n",
       "0                       0                      0                      0   \n",
       "1                       0                      0                      0   \n",
       "2                       0                      0                      0   \n",
       "3                       1                      0                      0   \n",
       "4                       0                      0                      0   \n",
       "\n",
       "   bed_type_Real Bed  \n",
       "0                  1  \n",
       "1                  1  \n",
       "2                  1  \n",
       "3                  1  \n",
       "4                  1  \n",
       "\n",
       "[5 rows x 22 columns]"
      ]
     },
     "execution_count": 63,
     "metadata": {},
     "output_type": "execute_result"
    }
   ],
   "source": [
    "categorical_feats = ['property_type', 'room_type', 'bed_type']\n",
    "df_with_some_features_and_category = pd.get_dummies(df_with_some_features, columns=categorical_feats, drop_first=False)\n",
    "print(\"Dataset has {} rows, {} columns.\".format(*df_with_some_features_and_category.shape))\n",
    "df_with_some_features_and_category.head()"
   ]
  },
  {
   "cell_type": "code",
   "execution_count": 64,
   "metadata": {},
   "outputs": [
    {
     "data": {
      "text/plain": [
       "\"Our bright garden unit overlooks a grassy backyard area with fruit trees and native plants. It is an oasis in a big city. The apartment comfortably fits a couple or small family. It is located on a cul de sac street that ends at lovely Duboce Park. Newly remodeled, modern, and bright garden unit in historic Victorian home.  *New fixtures and finishes. *Organic cotton sheets and towels. *Zero VOC and non-toxic Yolo paint. *Organic and fair-trade teas, fresh local ground coffee. *Local art on walls. *Sofa bed and Queen bed are in the same room. More of a petite apartment with a separate room for dining and kitchen. *Full access to patio and backyard (shared with us and our dog who live upstairs) *Beautiful garden with fruit trees, native plants and lawn *Washer and dryer *Children's toys *Charcoal grill A family of 4 lives upstairs with their dog. Normally we are able to meet guests, but we like to give people their privacy and mostly leave them alone. We are always available if anything\""
      ]
     },
     "execution_count": 64,
     "metadata": {},
     "output_type": "execute_result"
    }
   ],
   "source": [
    "df_airbnb.head(2).iloc[0, 0]"
   ]
  },
  {
   "cell_type": "markdown",
   "metadata": {},
   "source": [
    "__Random forest model__"
   ]
  },
  {
   "cell_type": "code",
   "execution_count": 88,
   "metadata": {},
   "outputs": [
    {
     "name": "stdout",
     "output_type": "stream",
     "text": [
      "CPU times: user 7.9 s, sys: 4 ms, total: 7.91 s\n",
      "Wall time: 7.9 s\n"
     ]
    }
   ],
   "source": [
    "%%time\n",
    "rf_reg_model = RandomForestRegressor(random_state=seed, bootstrap=True, criterion='mse', max_depth=10, \n",
    "                           max_features='auto', min_samples_split=4, n_estimators=150)\n",
    "\n",
    "rf_reg_model.fit(X_train, y_train)"
   ]
  },
  {
   "cell_type": "code",
   "execution_count": 89,
   "metadata": {},
   "outputs": [
    {
     "name": "stdout",
     "output_type": "stream",
     "text": [
      "Mean squared error: 3142237190.37\n",
      "Variance score: 0.30\n"
     ]
    },
    {
     "data": {
      "text/plain": [
       "['rf_reg_model.joblib']"
      ]
     },
     "execution_count": 89,
     "metadata": {},
     "output_type": "execute_result"
    }
   ],
   "source": [
    "# Make prediction\n",
    "rf_reg_modely_pred = rf_reg_model.predict(X_test)\n",
    "\n",
    "# The mean squared error\n",
    "print(\"Mean squared error: %.2f\" % mean_squared_error(y_test, rf_reg_modely_pred))\n",
    "# Explained variance score: 1 is perfect prediction\n",
    "print('Variance score: %.2f' % r2_score(y_test, rf_reg_modely_pred))\n",
    "\n",
    "\n",
    "from joblib import dump, load\n",
    "dump(rf_reg_model, 'rf_reg_model.joblib')"
   ]
  },
  {
   "cell_type": "markdown",
   "metadata": {},
   "source": [
    "### Training models with topic df"
   ]
  },
  {
   "cell_type": "code",
   "execution_count": 91,
   "metadata": {},
   "outputs": [],
   "source": [
    "df_with_some_features_and_category[['room_details','neighborhood_details','house_details']]=df_with_topics[['room_details','neighborhood_details','house_details']].copy()\n",
    "\n",
    "\n"
   ]
  },
  {
   "cell_type": "code",
   "execution_count": 92,
   "metadata": {},
   "outputs": [
    {
     "name": "stdout",
     "output_type": "stream",
     "text": [
      "Dataset has 25125 rows, 22 columns.\n"
     ]
    }
   ],
   "source": [
    "# df_with_three_topics.shape\n",
    "print(\"Dataset has {} rows, {} columns.\".format(*df_with_some_features_and_category.shape))"
   ]
  },
  {
   "cell_type": "code",
   "execution_count": 93,
   "metadata": {},
   "outputs": [
    {
     "data": {
      "text/html": [
       "<div>\n",
       "<style scoped>\n",
       "    .dataframe tbody tr th:only-of-type {\n",
       "        vertical-align: middle;\n",
       "    }\n",
       "\n",
       "    .dataframe tbody tr th {\n",
       "        vertical-align: top;\n",
       "    }\n",
       "\n",
       "    .dataframe thead th {\n",
       "        text-align: right;\n",
       "    }\n",
       "</style>\n",
       "<table border=\"1\" class=\"dataframe\">\n",
       "  <thead>\n",
       "    <tr style=\"text-align: right;\">\n",
       "      <th></th>\n",
       "      <th>accommodates</th>\n",
       "      <th>bathrooms</th>\n",
       "      <th>bedrooms</th>\n",
       "      <th>beds</th>\n",
       "      <th>guests_included</th>\n",
       "      <th>extra_people</th>\n",
       "      <th>minimum_nights</th>\n",
       "      <th>yield</th>\n",
       "      <th>room_details</th>\n",
       "      <th>neighborhood_details</th>\n",
       "      <th>...</th>\n",
       "      <th>property_type_Bed &amp; Breakfast</th>\n",
       "      <th>property_type_Boutique hotel</th>\n",
       "      <th>property_type_Condominium</th>\n",
       "      <th>property_type_House</th>\n",
       "      <th>property_type_Other</th>\n",
       "      <th>room_type_Entire home/apt</th>\n",
       "      <th>room_type_Private room</th>\n",
       "      <th>room_type_Shared room</th>\n",
       "      <th>bed_type_Non-Real Bed</th>\n",
       "      <th>bed_type_Real Bed</th>\n",
       "    </tr>\n",
       "  </thead>\n",
       "  <tbody>\n",
       "    <tr>\n",
       "      <th>0</th>\n",
       "      <td>3.0</td>\n",
       "      <td>1.0</td>\n",
       "      <td>1.0</td>\n",
       "      <td>2.0</td>\n",
       "      <td>2.0</td>\n",
       "      <td>25.0</td>\n",
       "      <td>1.0</td>\n",
       "      <td>39693.6</td>\n",
       "      <td>0.298948</td>\n",
       "      <td>0.694962</td>\n",
       "      <td>...</td>\n",
       "      <td>0</td>\n",
       "      <td>0</td>\n",
       "      <td>0</td>\n",
       "      <td>0</td>\n",
       "      <td>0</td>\n",
       "      <td>1</td>\n",
       "      <td>0</td>\n",
       "      <td>0</td>\n",
       "      <td>0</td>\n",
       "      <td>1</td>\n",
       "    </tr>\n",
       "    <tr>\n",
       "      <th>1</th>\n",
       "      <td>5.0</td>\n",
       "      <td>1.5</td>\n",
       "      <td>2.0</td>\n",
       "      <td>2.0</td>\n",
       "      <td>2.0</td>\n",
       "      <td>150.0</td>\n",
       "      <td>7.0</td>\n",
       "      <td>21340.8</td>\n",
       "      <td>0.729041</td>\n",
       "      <td>0.00609895</td>\n",
       "      <td>...</td>\n",
       "      <td>0</td>\n",
       "      <td>0</td>\n",
       "      <td>0</td>\n",
       "      <td>1</td>\n",
       "      <td>0</td>\n",
       "      <td>1</td>\n",
       "      <td>0</td>\n",
       "      <td>0</td>\n",
       "      <td>0</td>\n",
       "      <td>1</td>\n",
       "    </tr>\n",
       "  </tbody>\n",
       "</table>\n",
       "<p>2 rows × 22 columns</p>\n",
       "</div>"
      ],
      "text/plain": [
       "   accommodates  bathrooms  bedrooms  beds  guests_included  extra_people  \\\n",
       "0           3.0        1.0       1.0   2.0              2.0          25.0   \n",
       "1           5.0        1.5       2.0   2.0              2.0         150.0   \n",
       "\n",
       "   minimum_nights    yield room_details neighborhood_details  \\\n",
       "0             1.0  39693.6     0.298948             0.694962   \n",
       "1             7.0  21340.8     0.729041           0.00609895   \n",
       "\n",
       "         ...         property_type_Bed & Breakfast  \\\n",
       "0        ...                                     0   \n",
       "1        ...                                     0   \n",
       "\n",
       "   property_type_Boutique hotel  property_type_Condominium  \\\n",
       "0                             0                          0   \n",
       "1                             0                          0   \n",
       "\n",
       "   property_type_House  property_type_Other  room_type_Entire home/apt  \\\n",
       "0                    0                    0                          1   \n",
       "1                    1                    0                          1   \n",
       "\n",
       "   room_type_Private room  room_type_Shared room  bed_type_Non-Real Bed  \\\n",
       "0                       0                      0                      0   \n",
       "1                       0                      0                      0   \n",
       "\n",
       "   bed_type_Real Bed  \n",
       "0                  1  \n",
       "1                  1  \n",
       "\n",
       "[2 rows x 22 columns]"
      ]
     },
     "execution_count": 93,
     "metadata": {},
     "output_type": "execute_result"
    }
   ],
   "source": [
    "df_with_some_features_and_category.head(2)"
   ]
  },
  {
   "cell_type": "code",
   "execution_count": 94,
   "metadata": {},
   "outputs": [],
   "source": [
    "new_col = 'topic_descriptions'\n",
    "docTopicProbMat = ldamodel[doc_term_matrix]\n",
    "cols = ['room_details','neighborhood','house_details']\n",
    "docTopicProbDf = pd.DataFrame(index=df_with_some_features_and_category.index, columns=cols)\n",
    "for i, doc in enumerate(docTopicProbMat):\n",
    "    for topic in doc:\n",
    "        docTopicProbDf.iloc[i, topic[0]] = topic[1]\n",
    "docTopicProbDf[new_col] = docTopicProbDf.astype(float).idxmax(axis=1)\n",
    "df_topics = docTopicProbDf[new_col]\n",
    "# Merge with df\n",
    "df_with_topic_desc = pd.concat([df_with_some_features_and_category, df_topics], axis=1)"
   ]
  },
  {
   "cell_type": "code",
   "execution_count": 95,
   "metadata": {},
   "outputs": [
    {
     "data": {
      "text/plain": [
       "[(0, 0.2989563), (1, 0.6949561), (2, 0.006087613)]"
      ]
     },
     "execution_count": 95,
     "metadata": {},
     "output_type": "execute_result"
    }
   ],
   "source": [
    "docTopicProbMat[0]"
   ]
  },
  {
   "cell_type": "code",
   "execution_count": 96,
   "metadata": {},
   "outputs": [
    {
     "data": {
      "text/html": [
       "<div>\n",
       "<style scoped>\n",
       "    .dataframe tbody tr th:only-of-type {\n",
       "        vertical-align: middle;\n",
       "    }\n",
       "\n",
       "    .dataframe tbody tr th {\n",
       "        vertical-align: top;\n",
       "    }\n",
       "\n",
       "    .dataframe thead th {\n",
       "        text-align: right;\n",
       "    }\n",
       "</style>\n",
       "<table border=\"1\" class=\"dataframe\">\n",
       "  <thead>\n",
       "    <tr style=\"text-align: right;\">\n",
       "      <th></th>\n",
       "      <th>room_details</th>\n",
       "      <th>neighborhood</th>\n",
       "      <th>house_details</th>\n",
       "      <th>topic_descriptions</th>\n",
       "    </tr>\n",
       "  </thead>\n",
       "  <tbody>\n",
       "    <tr>\n",
       "      <th>0</th>\n",
       "      <td>0.298951</td>\n",
       "      <td>0.694955</td>\n",
       "      <td>0.00609373</td>\n",
       "      <td>neighborhood</td>\n",
       "    </tr>\n",
       "    <tr>\n",
       "      <th>1</th>\n",
       "      <td>0.729036</td>\n",
       "      <td>0.00609835</td>\n",
       "      <td>0.264865</td>\n",
       "      <td>room_details</td>\n",
       "    </tr>\n",
       "    <tr>\n",
       "      <th>2</th>\n",
       "      <td>0.57053</td>\n",
       "      <td>0.424268</td>\n",
       "      <td>0.00520217</td>\n",
       "      <td>room_details</td>\n",
       "    </tr>\n",
       "    <tr>\n",
       "      <th>3</th>\n",
       "      <td>0.00585211</td>\n",
       "      <td>0.919988</td>\n",
       "      <td>0.0741602</td>\n",
       "      <td>neighborhood</td>\n",
       "    </tr>\n",
       "    <tr>\n",
       "      <th>4</th>\n",
       "      <td>0.988085</td>\n",
       "      <td>0.00634855</td>\n",
       "      <td>0.00556647</td>\n",
       "      <td>room_details</td>\n",
       "    </tr>\n",
       "  </tbody>\n",
       "</table>\n",
       "</div>"
      ],
      "text/plain": [
       "  room_details neighborhood house_details topic_descriptions\n",
       "0     0.298951     0.694955    0.00609373       neighborhood\n",
       "1     0.729036   0.00609835      0.264865       room_details\n",
       "2      0.57053     0.424268    0.00520217       room_details\n",
       "3   0.00585211     0.919988     0.0741602       neighborhood\n",
       "4     0.988085   0.00634855    0.00556647       room_details"
      ]
     },
     "execution_count": 96,
     "metadata": {},
     "output_type": "execute_result"
    }
   ],
   "source": [
    "docTopicProbDf.head()"
   ]
  },
  {
   "cell_type": "code",
   "execution_count": 97,
   "metadata": {},
   "outputs": [
    {
     "data": {
      "text/html": [
       "<div>\n",
       "<style scoped>\n",
       "    .dataframe tbody tr th:only-of-type {\n",
       "        vertical-align: middle;\n",
       "    }\n",
       "\n",
       "    .dataframe tbody tr th {\n",
       "        vertical-align: top;\n",
       "    }\n",
       "\n",
       "    .dataframe thead th {\n",
       "        text-align: right;\n",
       "    }\n",
       "</style>\n",
       "<table border=\"1\" class=\"dataframe\">\n",
       "  <thead>\n",
       "    <tr style=\"text-align: right;\">\n",
       "      <th></th>\n",
       "      <th>accommodates</th>\n",
       "      <th>bathrooms</th>\n",
       "      <th>bedrooms</th>\n",
       "      <th>beds</th>\n",
       "      <th>guests_included</th>\n",
       "      <th>extra_people</th>\n",
       "      <th>minimum_nights</th>\n",
       "      <th>yield</th>\n",
       "      <th>room_details</th>\n",
       "      <th>neighborhood_details</th>\n",
       "      <th>...</th>\n",
       "      <th>property_type_Boutique hotel</th>\n",
       "      <th>property_type_Condominium</th>\n",
       "      <th>property_type_House</th>\n",
       "      <th>property_type_Other</th>\n",
       "      <th>room_type_Entire home/apt</th>\n",
       "      <th>room_type_Private room</th>\n",
       "      <th>room_type_Shared room</th>\n",
       "      <th>bed_type_Non-Real Bed</th>\n",
       "      <th>bed_type_Real Bed</th>\n",
       "      <th>topic_descriptions</th>\n",
       "    </tr>\n",
       "  </thead>\n",
       "  <tbody>\n",
       "    <tr>\n",
       "      <th>0</th>\n",
       "      <td>3.0</td>\n",
       "      <td>1.0</td>\n",
       "      <td>1.0</td>\n",
       "      <td>2.0</td>\n",
       "      <td>2.0</td>\n",
       "      <td>25.0</td>\n",
       "      <td>1.0</td>\n",
       "      <td>39693.6</td>\n",
       "      <td>0.298948</td>\n",
       "      <td>0.694962</td>\n",
       "      <td>...</td>\n",
       "      <td>0</td>\n",
       "      <td>0</td>\n",
       "      <td>0</td>\n",
       "      <td>0</td>\n",
       "      <td>1</td>\n",
       "      <td>0</td>\n",
       "      <td>0</td>\n",
       "      <td>0</td>\n",
       "      <td>1</td>\n",
       "      <td>neighborhood</td>\n",
       "    </tr>\n",
       "    <tr>\n",
       "      <th>1</th>\n",
       "      <td>5.0</td>\n",
       "      <td>1.5</td>\n",
       "      <td>2.0</td>\n",
       "      <td>2.0</td>\n",
       "      <td>2.0</td>\n",
       "      <td>150.0</td>\n",
       "      <td>7.0</td>\n",
       "      <td>21340.8</td>\n",
       "      <td>0.729041</td>\n",
       "      <td>0.00609895</td>\n",
       "      <td>...</td>\n",
       "      <td>0</td>\n",
       "      <td>0</td>\n",
       "      <td>1</td>\n",
       "      <td>0</td>\n",
       "      <td>1</td>\n",
       "      <td>0</td>\n",
       "      <td>0</td>\n",
       "      <td>0</td>\n",
       "      <td>1</td>\n",
       "      <td>room_details</td>\n",
       "    </tr>\n",
       "    <tr>\n",
       "      <th>2</th>\n",
       "      <td>6.0</td>\n",
       "      <td>1.0</td>\n",
       "      <td>2.0</td>\n",
       "      <td>3.0</td>\n",
       "      <td>1.0</td>\n",
       "      <td>0.0</td>\n",
       "      <td>2.0</td>\n",
       "      <td>10180.8</td>\n",
       "      <td>0.57053</td>\n",
       "      <td>0.424268</td>\n",
       "      <td>...</td>\n",
       "      <td>0</td>\n",
       "      <td>0</td>\n",
       "      <td>0</td>\n",
       "      <td>0</td>\n",
       "      <td>1</td>\n",
       "      <td>0</td>\n",
       "      <td>0</td>\n",
       "      <td>0</td>\n",
       "      <td>1</td>\n",
       "      <td>room_details</td>\n",
       "    </tr>\n",
       "    <tr>\n",
       "      <th>3</th>\n",
       "      <td>3.0</td>\n",
       "      <td>1.0</td>\n",
       "      <td>1.0</td>\n",
       "      <td>2.0</td>\n",
       "      <td>2.0</td>\n",
       "      <td>60.0</td>\n",
       "      <td>1.0</td>\n",
       "      <td>94644.0</td>\n",
       "      <td>0.00585081</td>\n",
       "      <td>0.920003</td>\n",
       "      <td>...</td>\n",
       "      <td>0</td>\n",
       "      <td>1</td>\n",
       "      <td>0</td>\n",
       "      <td>0</td>\n",
       "      <td>0</td>\n",
       "      <td>1</td>\n",
       "      <td>0</td>\n",
       "      <td>0</td>\n",
       "      <td>1</td>\n",
       "      <td>neighborhood</td>\n",
       "    </tr>\n",
       "    <tr>\n",
       "      <th>4</th>\n",
       "      <td>3.0</td>\n",
       "      <td>1.0</td>\n",
       "      <td>1.0</td>\n",
       "      <td>2.0</td>\n",
       "      <td>2.0</td>\n",
       "      <td>35.0</td>\n",
       "      <td>3.0</td>\n",
       "      <td>24300.0</td>\n",
       "      <td>0.988086</td>\n",
       "      <td>0.00634775</td>\n",
       "      <td>...</td>\n",
       "      <td>0</td>\n",
       "      <td>0</td>\n",
       "      <td>0</td>\n",
       "      <td>0</td>\n",
       "      <td>1</td>\n",
       "      <td>0</td>\n",
       "      <td>0</td>\n",
       "      <td>0</td>\n",
       "      <td>1</td>\n",
       "      <td>room_details</td>\n",
       "    </tr>\n",
       "  </tbody>\n",
       "</table>\n",
       "<p>5 rows × 23 columns</p>\n",
       "</div>"
      ],
      "text/plain": [
       "   accommodates  bathrooms  bedrooms  beds  guests_included  extra_people  \\\n",
       "0           3.0        1.0       1.0   2.0              2.0          25.0   \n",
       "1           5.0        1.5       2.0   2.0              2.0         150.0   \n",
       "2           6.0        1.0       2.0   3.0              1.0           0.0   \n",
       "3           3.0        1.0       1.0   2.0              2.0          60.0   \n",
       "4           3.0        1.0       1.0   2.0              2.0          35.0   \n",
       "\n",
       "   minimum_nights    yield room_details neighborhood_details  \\\n",
       "0             1.0  39693.6     0.298948             0.694962   \n",
       "1             7.0  21340.8     0.729041           0.00609895   \n",
       "2             2.0  10180.8      0.57053             0.424268   \n",
       "3             1.0  94644.0   0.00585081             0.920003   \n",
       "4             3.0  24300.0     0.988086           0.00634775   \n",
       "\n",
       "          ...         property_type_Boutique hotel  property_type_Condominium  \\\n",
       "0         ...                                    0                          0   \n",
       "1         ...                                    0                          0   \n",
       "2         ...                                    0                          0   \n",
       "3         ...                                    0                          1   \n",
       "4         ...                                    0                          0   \n",
       "\n",
       "   property_type_House  property_type_Other  room_type_Entire home/apt  \\\n",
       "0                    0                    0                          1   \n",
       "1                    1                    0                          1   \n",
       "2                    0                    0                          1   \n",
       "3                    0                    0                          0   \n",
       "4                    0                    0                          1   \n",
       "\n",
       "   room_type_Private room  room_type_Shared room  bed_type_Non-Real Bed  \\\n",
       "0                       0                      0                      0   \n",
       "1                       0                      0                      0   \n",
       "2                       0                      0                      0   \n",
       "3                       1                      0                      0   \n",
       "4                       0                      0                      0   \n",
       "\n",
       "   bed_type_Real Bed  topic_descriptions  \n",
       "0                  1        neighborhood  \n",
       "1                  1        room_details  \n",
       "2                  1        room_details  \n",
       "3                  1        neighborhood  \n",
       "4                  1        room_details  \n",
       "\n",
       "[5 rows x 23 columns]"
      ]
     },
     "execution_count": 97,
     "metadata": {},
     "output_type": "execute_result"
    }
   ],
   "source": [
    "df_with_topic_desc.head()"
   ]
  },
  {
   "cell_type": "code",
   "execution_count": 115,
   "metadata": {},
   "outputs": [],
   "source": [
    "df_with_topic_desc_as_category = pd.get_dummies(df_with_topic_desc, columns=[new_col], drop_first=False)"
   ]
  },
  {
   "cell_type": "code",
   "execution_count": 116,
   "metadata": {},
   "outputs": [],
   "source": [
    "# Create response and target variable\n",
    "X = df_with_some_features_and_category.drop(target, axis=1)\n",
    "y = df_with_some_features_and_category[target]\n",
    "X_train, X_test, y_train, y_test = train_test_split(X, y, test_size=test_size, random_state=seed)"
   ]
  },
  {
   "cell_type": "markdown",
   "metadata": {},
   "source": [
    "### Liner Regression Model"
   ]
  },
  {
   "cell_type": "code",
   "execution_count": 117,
   "metadata": {},
   "outputs": [
    {
     "name": "stdout",
     "output_type": "stream",
     "text": [
      "RMSE Score: 53167.27030\n",
      "Variance score: 0.33\n"
     ]
    }
   ],
   "source": [
    "rf_reg_model.fit(X_train, y_train)\n",
    "# Make prediction\n",
    "rf_reg_modely_pred = rf_reg_model.predict(X_test)\n",
    "\n",
    "\n",
    "print(\"RMSE Score: %.5f\" %np.sqrt(metrics.mean_squared_error(y_test,rf_reg_modely_pred)))\n",
    "print('Variance score: %.2f' % r2_score(y_test, rf_reg_modely_pred))"
   ]
  },
  {
   "cell_type": "markdown",
   "metadata": {},
   "source": [
    "### Decision Tree Model"
   ]
  },
  {
   "cell_type": "code",
   "execution_count": 119,
   "metadata": {},
   "outputs": [
    {
     "name": "stdout",
     "output_type": "stream",
     "text": [
      "RMSE Score: 58631.09619\n",
      "Variance Score: 0.18\n"
     ]
    }
   ],
   "source": [
    "# Fit Decision Tree Regression model\n",
    "dt_reg_model = DecisionTreeRegressor(random_state = seed,max_depth = 5)\n",
    "dt_reg_model.fit(X_train,y_train)\n",
    "dt_reg_y_pred = dt_reg_model.predict(X_test)\n",
    "\n",
    "print(\"RMSE Score: %.5f\" %np.sqrt(metrics.mean_squared_error(y_test,dt_reg_y_pred)))\n",
    "print(\"Variance Score: %.2f\" %r2_score(y_test,dt_reg_y_pred))"
   ]
  },
  {
   "cell_type": "markdown",
   "metadata": {},
   "source": [
    "### Random Forest Model"
   ]
  },
  {
   "cell_type": "code",
   "execution_count": 125,
   "metadata": {},
   "outputs": [],
   "source": [
    "#Tuning the model\n",
    "param_grid = { \"n_estimators\"      : [175, 200],\n",
    "           \"criterion\"         : ['mse'],\n",
    "           \"max_features\"      : ['auto'], #auto, sqrt, log2, int/n_feature\n",
    "           \"max_depth\"         : [10,20],\n",
    "           \"min_samples_split\" : [5,10] ,\n",
    "           \"bootstrap\": [True]}"
   ]
  },
  {
   "cell_type": "code",
   "execution_count": 126,
   "metadata": {},
   "outputs": [
    {
     "name": "stdout",
     "output_type": "stream",
     "text": [
      "CPU times: user 8min 28s, sys: 80 ms, total: 8min 28s\n",
      "Wall time: 8min 4s\n"
     ]
    }
   ],
   "source": [
    "%%time\n",
    "rf = RandomForestRegressor(random_state=seed)\n",
    "rf_cv = GridSearchCV(rf, param_grid, cv=5)\n",
    "rf_cv.fit(X_train, y_train)\n"
   ]
  },
  {
   "cell_type": "code",
   "execution_count": 129,
   "metadata": {},
   "outputs": [
    {
     "name": "stdout",
     "output_type": "stream",
     "text": [
      "RMSE Score: 47070.98550\n",
      "Variance Score: 0.47\n"
     ]
    }
   ],
   "source": [
    "# Make prediction\n",
    "rf_y_pred = rf_cv.predict(X_test)\n",
    "\n",
    "print(\"RMSE Score: %.5f\" %np.sqrt(metrics.mean_squared_error(y_test,rf_y_pred)))\n",
    "print(\"Variance Score: %.2f\" %r2_score(y_test,rf_y_pred))\n"
   ]
  },
  {
   "cell_type": "code",
   "execution_count": 109,
   "metadata": {},
   "outputs": [
    {
     "name": "stdout",
     "output_type": "stream",
     "text": [
      "Mean squared error: 3142237190.37\n",
      "Variance score: 0.30\n"
     ]
    }
   ],
   "source": [
    "# Change variables\n",
    "random_state = 59\n",
    "\n",
    "X = df_with_some_features_and_category.drop(target, axis=1)\n",
    "y = df_with_some_features_and_category[target]\n",
    "X_train, X_test, y_train, y_test = train_test_split(X, y, test_size=test_size, random_state=seed)\n",
    "\n",
    "# Fit and make prediction\n",
    "rf_reg_model.fit(X_train, y_train)\n",
    "rf_reg_modely_pred = rf_reg_model.predict(X_test)\n",
    "\n",
    "print(\"RMSE Score: %.5f\" %np.sqrt(metrics.mean_squared_error(y_test,rf_reg_modely_pred)))\n",
    "print(\"Variance Score: %.2f\" %r2_score(y_test,rf_reg_modely_pred))"
   ]
  },
  {
   "cell_type": "code",
   "execution_count": null,
   "metadata": {},
   "outputs": [],
   "source": [
    "#Display feature importance\n",
    "def feature_importance(model, trainData, display_n_rows):\n",
    "    \"\"\"Display feature importance & weighting for tree based model\"\"\"\n",
    "    fi = model.feature_importances_*100\n",
    "    feat_imp = pd.DataFrame(list(zip(fi,trainData.columns.values)))\n",
    "    feat_imp = feat_imp.sort_values(by=0, axis=0, ascending=False)\n",
    "    feat_imp.columns = ['importance %', 'feature']\n",
    "    print(feat_imp[:display_n_rows])"
   ]
  },
  {
   "cell_type": "code",
   "execution_count": null,
   "metadata": {},
   "outputs": [],
   "source": [
    "#Display features & weighting\n",
    "rf_best = rf_cv.best_estimator_\n",
    "feature_importance(rf_best, X_train, 20)"
   ]
  },
  {
   "cell_type": "code",
   "execution_count": 49,
   "metadata": {},
   "outputs": [],
   "source": [
    "average_price_frequency_reviews_topics = df_with_topic_desc_as_category[['topic_descriptions_house_details','topic_descriptions_neighborhood','topic_descriptions_room_details']].copy()"
   ]
  },
  {
   "cell_type": "code",
   "execution_count": 50,
   "metadata": {},
   "outputs": [
    {
     "data": {
      "text/html": [
       "<div>\n",
       "<style scoped>\n",
       "    .dataframe tbody tr th:only-of-type {\n",
       "        vertical-align: middle;\n",
       "    }\n",
       "\n",
       "    .dataframe tbody tr th {\n",
       "        vertical-align: top;\n",
       "    }\n",
       "\n",
       "    .dataframe thead th {\n",
       "        text-align: right;\n",
       "    }\n",
       "</style>\n",
       "<table border=\"1\" class=\"dataframe\">\n",
       "  <thead>\n",
       "    <tr style=\"text-align: right;\">\n",
       "      <th></th>\n",
       "      <th>topic_descriptions_house_details</th>\n",
       "      <th>topic_descriptions_neighborhood</th>\n",
       "      <th>topic_descriptions_room_details</th>\n",
       "    </tr>\n",
       "  </thead>\n",
       "  <tbody>\n",
       "    <tr>\n",
       "      <th>0</th>\n",
       "      <td>0</td>\n",
       "      <td>1</td>\n",
       "      <td>0</td>\n",
       "    </tr>\n",
       "    <tr>\n",
       "      <th>1</th>\n",
       "      <td>0</td>\n",
       "      <td>0</td>\n",
       "      <td>1</td>\n",
       "    </tr>\n",
       "    <tr>\n",
       "      <th>2</th>\n",
       "      <td>0</td>\n",
       "      <td>0</td>\n",
       "      <td>1</td>\n",
       "    </tr>\n",
       "    <tr>\n",
       "      <th>3</th>\n",
       "      <td>0</td>\n",
       "      <td>1</td>\n",
       "      <td>0</td>\n",
       "    </tr>\n",
       "    <tr>\n",
       "      <th>4</th>\n",
       "      <td>0</td>\n",
       "      <td>0</td>\n",
       "      <td>1</td>\n",
       "    </tr>\n",
       "  </tbody>\n",
       "</table>\n",
       "</div>"
      ],
      "text/plain": [
       "   topic_descriptions_house_details  topic_descriptions_neighborhood  \\\n",
       "0                                 0                                1   \n",
       "1                                 0                                0   \n",
       "2                                 0                                0   \n",
       "3                                 0                                1   \n",
       "4                                 0                                0   \n",
       "\n",
       "   topic_descriptions_room_details  \n",
       "0                                0  \n",
       "1                                1  \n",
       "2                                1  \n",
       "3                                0  \n",
       "4                                1  "
      ]
     },
     "execution_count": 50,
     "metadata": {},
     "output_type": "execute_result"
    }
   ],
   "source": [
    "average_price_frequency_reviews_topics.head()\n"
   ]
  },
  {
   "cell_type": "code",
   "execution_count": 51,
   "metadata": {},
   "outputs": [],
   "source": [
    "nlp_feats = ['topic_descriptions_house_details','topic_descriptions_neighborhood','topic_descriptions_room_details']\n",
    "average_price_frequency_reviews_topics['topics_description'] = average_price_frequency_reviews_topics[nlp_feats].idxmax(axis=1)\n",
    "average_price_frequency_reviews_topics['topics_description'] = average_price_frequency_reviews_topics['topics_description'].str.replace('topic_descriptions_', '')"
   ]
  },
  {
   "cell_type": "code",
   "execution_count": 52,
   "metadata": {},
   "outputs": [
    {
     "data": {
      "text/html": [
       "<div>\n",
       "<style scoped>\n",
       "    .dataframe tbody tr th:only-of-type {\n",
       "        vertical-align: middle;\n",
       "    }\n",
       "\n",
       "    .dataframe tbody tr th {\n",
       "        vertical-align: top;\n",
       "    }\n",
       "\n",
       "    .dataframe thead th {\n",
       "        text-align: right;\n",
       "    }\n",
       "</style>\n",
       "<table border=\"1\" class=\"dataframe\">\n",
       "  <thead>\n",
       "    <tr style=\"text-align: right;\">\n",
       "      <th></th>\n",
       "      <th>topic_descriptions_house_details</th>\n",
       "      <th>topic_descriptions_neighborhood</th>\n",
       "      <th>topic_descriptions_room_details</th>\n",
       "      <th>topics_description</th>\n",
       "    </tr>\n",
       "  </thead>\n",
       "  <tbody>\n",
       "    <tr>\n",
       "      <th>0</th>\n",
       "      <td>0</td>\n",
       "      <td>1</td>\n",
       "      <td>0</td>\n",
       "      <td>neighborhood</td>\n",
       "    </tr>\n",
       "    <tr>\n",
       "      <th>1</th>\n",
       "      <td>0</td>\n",
       "      <td>0</td>\n",
       "      <td>1</td>\n",
       "      <td>room_details</td>\n",
       "    </tr>\n",
       "    <tr>\n",
       "      <th>2</th>\n",
       "      <td>0</td>\n",
       "      <td>0</td>\n",
       "      <td>1</td>\n",
       "      <td>room_details</td>\n",
       "    </tr>\n",
       "    <tr>\n",
       "      <th>3</th>\n",
       "      <td>0</td>\n",
       "      <td>1</td>\n",
       "      <td>0</td>\n",
       "      <td>neighborhood</td>\n",
       "    </tr>\n",
       "  </tbody>\n",
       "</table>\n",
       "</div>"
      ],
      "text/plain": [
       "   topic_descriptions_house_details  topic_descriptions_neighborhood  \\\n",
       "0                                 0                                1   \n",
       "1                                 0                                0   \n",
       "2                                 0                                0   \n",
       "3                                 0                                1   \n",
       "\n",
       "   topic_descriptions_room_details topics_description  \n",
       "0                                0       neighborhood  \n",
       "1                                1       room_details  \n",
       "2                                1       room_details  \n",
       "3                                0       neighborhood  "
      ]
     },
     "execution_count": 52,
     "metadata": {},
     "output_type": "execute_result"
    }
   ],
   "source": [
    "average_price_frequency_reviews_topics.head(4)"
   ]
  },
  {
   "cell_type": "code",
   "execution_count": 53,
   "metadata": {},
   "outputs": [],
   "source": [
    "average_price_frequency_reviews_topics= pd.concat([average_price_frequency_reviews_topics, df_airbnb[['price','reviews_per_month','yield']]], axis=1)\n",
    "# average_price_frequency_reviews_topics=df_airbnb[['price','reviews_per_month']].copy()"
   ]
  },
  {
   "cell_type": "code",
   "execution_count": 54,
   "metadata": {},
   "outputs": [
    {
     "data": {
      "text/html": [
       "<div>\n",
       "<style scoped>\n",
       "    .dataframe tbody tr th:only-of-type {\n",
       "        vertical-align: middle;\n",
       "    }\n",
       "\n",
       "    .dataframe tbody tr th {\n",
       "        vertical-align: top;\n",
       "    }\n",
       "\n",
       "    .dataframe thead th {\n",
       "        text-align: right;\n",
       "    }\n",
       "</style>\n",
       "<table border=\"1\" class=\"dataframe\">\n",
       "  <thead>\n",
       "    <tr style=\"text-align: right;\">\n",
       "      <th></th>\n",
       "      <th>topic_descriptions_house_details</th>\n",
       "      <th>topic_descriptions_neighborhood</th>\n",
       "      <th>topic_descriptions_room_details</th>\n",
       "      <th>topics_description</th>\n",
       "      <th>price</th>\n",
       "      <th>reviews_per_month</th>\n",
       "      <th>yield</th>\n",
       "    </tr>\n",
       "  </thead>\n",
       "  <tbody>\n",
       "    <tr>\n",
       "      <th>0</th>\n",
       "      <td>0</td>\n",
       "      <td>1</td>\n",
       "      <td>0</td>\n",
       "      <td>neighborhood</td>\n",
       "      <td>370.0</td>\n",
       "      <td>1.49</td>\n",
       "      <td>39693.6</td>\n",
       "    </tr>\n",
       "    <tr>\n",
       "      <th>1</th>\n",
       "      <td>0</td>\n",
       "      <td>0</td>\n",
       "      <td>1</td>\n",
       "      <td>room_details</td>\n",
       "      <td>1235.0</td>\n",
       "      <td>0.24</td>\n",
       "      <td>21340.8</td>\n",
       "    </tr>\n",
       "    <tr>\n",
       "      <th>2</th>\n",
       "      <td>0</td>\n",
       "      <td>0</td>\n",
       "      <td>1</td>\n",
       "      <td>room_details</td>\n",
       "      <td>505.0</td>\n",
       "      <td>0.28</td>\n",
       "      <td>10180.8</td>\n",
       "    </tr>\n",
       "    <tr>\n",
       "      <th>3</th>\n",
       "      <td>0</td>\n",
       "      <td>1</td>\n",
       "      <td>0</td>\n",
       "      <td>neighborhood</td>\n",
       "      <td>239.0</td>\n",
       "      <td>5.50</td>\n",
       "      <td>94644.0</td>\n",
       "    </tr>\n",
       "    <tr>\n",
       "      <th>4</th>\n",
       "      <td>0</td>\n",
       "      <td>0</td>\n",
       "      <td>1</td>\n",
       "      <td>room_details</td>\n",
       "      <td>375.0</td>\n",
       "      <td>0.90</td>\n",
       "      <td>24300.0</td>\n",
       "    </tr>\n",
       "  </tbody>\n",
       "</table>\n",
       "</div>"
      ],
      "text/plain": [
       "   topic_descriptions_house_details  topic_descriptions_neighborhood  \\\n",
       "0                                 0                                1   \n",
       "1                                 0                                0   \n",
       "2                                 0                                0   \n",
       "3                                 0                                1   \n",
       "4                                 0                                0   \n",
       "\n",
       "   topic_descriptions_room_details topics_description   price  \\\n",
       "0                                0       neighborhood   370.0   \n",
       "1                                1       room_details  1235.0   \n",
       "2                                1       room_details   505.0   \n",
       "3                                0       neighborhood   239.0   \n",
       "4                                1       room_details   375.0   \n",
       "\n",
       "   reviews_per_month    yield  \n",
       "0               1.49  39693.6  \n",
       "1               0.24  21340.8  \n",
       "2               0.28  10180.8  \n",
       "3               5.50  94644.0  \n",
       "4               0.90  24300.0  "
      ]
     },
     "execution_count": 54,
     "metadata": {},
     "output_type": "execute_result"
    }
   ],
   "source": [
    "average_price_frequency_reviews_topics.head()"
   ]
  },
  {
   "cell_type": "code",
   "execution_count": 55,
   "metadata": {},
   "outputs": [],
   "source": [
    "df3 = average_price_frequency_reviews_topics[['topics_description', 'price', 'reviews_per_month']].groupby(['topics_description']).mean()\n",
    "df3['count'] = average_price_frequency_reviews_topics[['yield', 'topics_description']].groupby(['topics_description']).count()['yield']\n",
    "df3['reviews_per_year'] = df3['reviews_per_month']*12\n",
    "df3['color'] = ['R', 'G', 'B']"
   ]
  },
  {
   "cell_type": "code",
   "execution_count": 56,
   "metadata": {},
   "outputs": [
    {
     "data": {
      "text/html": [
       "<div>\n",
       "<style scoped>\n",
       "    .dataframe tbody tr th:only-of-type {\n",
       "        vertical-align: middle;\n",
       "    }\n",
       "\n",
       "    .dataframe tbody tr th {\n",
       "        vertical-align: top;\n",
       "    }\n",
       "\n",
       "    .dataframe thead th {\n",
       "        text-align: right;\n",
       "    }\n",
       "</style>\n",
       "<table border=\"1\" class=\"dataframe\">\n",
       "  <thead>\n",
       "    <tr style=\"text-align: right;\">\n",
       "      <th></th>\n",
       "      <th>price</th>\n",
       "      <th>reviews_per_month</th>\n",
       "      <th>count</th>\n",
       "      <th>reviews_per_year</th>\n",
       "      <th>color</th>\n",
       "    </tr>\n",
       "    <tr>\n",
       "      <th>topics_description</th>\n",
       "      <th></th>\n",
       "      <th></th>\n",
       "      <th></th>\n",
       "      <th></th>\n",
       "      <th></th>\n",
       "    </tr>\n",
       "  </thead>\n",
       "  <tbody>\n",
       "    <tr>\n",
       "      <th>house_details</th>\n",
       "      <td>347.010724</td>\n",
       "      <td>2.434127</td>\n",
       "      <td>8486</td>\n",
       "      <td>29.209522</td>\n",
       "      <td>R</td>\n",
       "    </tr>\n",
       "    <tr>\n",
       "      <th>neighborhood</th>\n",
       "      <td>276.755905</td>\n",
       "      <td>3.225547</td>\n",
       "      <td>9103</td>\n",
       "      <td>38.706558</td>\n",
       "      <td>G</td>\n",
       "    </tr>\n",
       "    <tr>\n",
       "      <th>room_details</th>\n",
       "      <td>461.187633</td>\n",
       "      <td>1.892236</td>\n",
       "      <td>7536</td>\n",
       "      <td>22.706831</td>\n",
       "      <td>B</td>\n",
       "    </tr>\n",
       "  </tbody>\n",
       "</table>\n",
       "</div>"
      ],
      "text/plain": [
       "                         price  reviews_per_month  count  reviews_per_year  \\\n",
       "topics_description                                                           \n",
       "house_details       347.010724           2.434127   8486         29.209522   \n",
       "neighborhood        276.755905           3.225547   9103         38.706558   \n",
       "room_details        461.187633           1.892236   7536         22.706831   \n",
       "\n",
       "                   color  \n",
       "topics_description        \n",
       "house_details          R  \n",
       "neighborhood           G  \n",
       "room_details           B  "
      ]
     },
     "execution_count": 56,
     "metadata": {},
     "output_type": "execute_result"
    }
   ],
   "source": [
    "df3"
   ]
  },
  {
   "cell_type": "code",
   "execution_count": null,
   "metadata": {},
   "outputs": [],
   "source": [
    "plt.figure(figsize=(10, 6))\n",
    "\n",
    "\n",
    "\n",
    "plt.xticks(fontsize=14)\n",
    "plt.yticks(fontsize=14)\n",
    "# Unique category labels:\n",
    "color_labels = df3['color'].unique()\n",
    "\n",
    "# List of RGB triplets\n",
    "rgb_values = sns.color_palette(\"Set2\", 8)\n",
    "\n",
    "# Map label to RGB\n",
    "color_map = dict(zip(color_labels, rgb_values))\n",
    "\n",
    "# Finally use the mapped values\n",
    "plt.scatter(df3['reviews_per_year'], df3['price'], c=df3['color'].map(color_map), s=df3['count']*.2)\n",
    "\n",
    "# plt.ylim([120,180])\n",
    "# plt.xlim([16,24])\n",
    "\n",
    "plt.xlabel('Avg. no. of reviews / year',fontsize=20)\n",
    "plt.ylabel('Avg. price / night($)', fontsize=20)\n",
    "plt.title('Average price and frequency of reviews by description topic', weight='bold', fontsize=14)\n",
    "\n",
    "for i, txt in enumerate(df3.index):\n",
    "    plt.annotate(txt, (df3['reviews_per_year'].iat[i]-0.3,df3['price'].iat[i]), fontsize=11, weight='bold')\n",
    "plt.savefig(\"results.png\")"
   ]
  },
  {
   "cell_type": "code",
   "execution_count": null,
   "metadata": {},
   "outputs": [],
   "source": [
    "pyLDAvis.gensim.prepare(ldamodel, doc_term_matrix, dictionary)"
   ]
  },
  {
   "cell_type": "code",
   "execution_count": null,
   "metadata": {},
   "outputs": [],
   "source": []
  },
  {
   "cell_type": "code",
   "execution_count": null,
   "metadata": {},
   "outputs": [],
   "source": []
  },
  {
   "cell_type": "code",
   "execution_count": null,
   "metadata": {},
   "outputs": [],
   "source": []
  },
  {
   "cell_type": "code",
   "execution_count": null,
   "metadata": {},
   "outputs": [],
   "source": [
    "# # %%time\n",
    "#p = pyLDAvis.gensim.prepare(ldamodel_description, doc_term_matrix_description, dictionary_description)"
   ]
  },
  {
   "cell_type": "code",
   "execution_count": null,
   "metadata": {},
   "outputs": [],
   "source": [
    "pyLDAvis.save_html(p, 'lda.html')"
   ]
  }
 ],
 "metadata": {
  "kernelspec": {
   "display_name": "Python 3",
   "language": "python",
   "name": "python3"
  },
  "language_info": {
   "codemirror_mode": {
    "name": "ipython",
    "version": 3
   },
   "file_extension": ".py",
   "mimetype": "text/x-python",
   "name": "python",
   "nbconvert_exporter": "python",
   "pygments_lexer": "ipython3",
   "version": "3.7.1"
  }
 },
 "nbformat": 4,
 "nbformat_minor": 2
}
