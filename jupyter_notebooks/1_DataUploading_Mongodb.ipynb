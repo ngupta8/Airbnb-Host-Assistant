{
 "cells": [
  {
   "cell_type": "markdown",
   "metadata": {},
   "source": [
    "------\n",
    "### Metis: Project Fletcher \n",
    ">  Neha Gupta                \n",
    ">  Date: 3/01/2019\n",
    "-------"
   ]
  },
  {
   "cell_type": "markdown",
   "metadata": {},
   "source": [
    "### Data Uploading in MangoDB\n",
    "\n",
    "__Writing a script make the connection with mandodb and unzip the csvs and upload them in database.__\n",
    "\n",
    "\n"
   ]
  },
  {
   "cell_type": "markdown",
   "metadata": {},
   "source": [
    "### Import Libraries"
   ]
  },
  {
   "cell_type": "code",
   "execution_count": 3,
   "metadata": {},
   "outputs": [],
   "source": [
    "from pymongo import MongoClient\n",
    "import os\n",
    "import pandas as pd\n"
   ]
  },
  {
   "cell_type": "markdown",
   "metadata": {},
   "source": [
    "__Creating connection__"
   ]
  },
  {
   "cell_type": "code",
   "execution_count": 4,
   "metadata": {},
   "outputs": [],
   "source": [
    "client = MongoClient()\n",
    "db = client.airbnb"
   ]
  },
  {
   "cell_type": "markdown",
   "metadata": {},
   "source": [
    "__Upload CSVs in 'airbnb' database__"
   ]
  },
  {
   "cell_type": "code",
   "execution_count": 4,
   "metadata": {},
   "outputs": [],
   "source": [
    "import pandas as pd\n",
    "db = client.airbnb\n",
    "# comment_collection = db.comments\n",
    "directory = \"../airbnb_data/\"\n",
    "for filename in os.listdir(directory):\n",
    "    df = pd.read_csv(directory + filename, compression='gzip')\n",
    "    records_ = df.to_dict(orient = 'records')\n",
    "    result = db.airbnb.insert_many(records_ )\n"
   ]
  },
  {
   "cell_type": "markdown",
   "metadata": {},
   "source": [
    "__Checking databases__"
   ]
  },
  {
   "cell_type": "code",
   "execution_count": 6,
   "metadata": {},
   "outputs": [
    {
     "name": "stderr",
     "output_type": "stream",
     "text": [
      "/Users/admin/anaconda3/lib/python3.6/site-packages/ipykernel_launcher.py:1: DeprecationWarning: database_names is deprecated. Use list_database_names instead.\n",
      "  \"\"\"Entry point for launching an IPython kernel.\n"
     ]
    },
    {
     "data": {
      "text/plain": [
       "['admin', 'airbnb', 'config', 'events', 'local', 'test']"
      ]
     },
     "execution_count": 6,
     "metadata": {},
     "output_type": "execute_result"
    }
   ],
   "source": [
    "client.database_names()"
   ]
  },
  {
   "cell_type": "markdown",
   "metadata": {},
   "source": [
    "__Checking csv uploaded properly__"
   ]
  },
  {
   "cell_type": "code",
   "execution_count": 7,
   "metadata": {},
   "outputs": [
    {
     "name": "stdout",
     "output_type": "stream",
     "text": [
      "{'_id': ObjectId('5c738da7916f731159210a47'),\n",
      " 'access': '*Full access to patio and backyard (shared with us and our dog who '\n",
      "           'live upstairs) *Beautiful garden with fruit trees, native plants '\n",
      "           \"and lawn *Washer and dryer *Children's toys *Charcoal grill\",\n",
      " 'accommodates': 3,\n",
      " 'amenities': '{TV,\"Cable TV\",Internet,Wifi,Kitchen,\"Pets live on this '\n",
      "              'property\",Dog(s),Heating,\"Family/kid '\n",
      "              'friendly\",Washer,Dryer,\"Smoke detector\",\"Carbon monoxide '\n",
      "              'detector\",\"First aid kit\",Essentials,Shampoo,\"24-hour '\n",
      "              'check-in\",Hangers,\"Hair dryer\",Iron,\"Laptop friendly '\n",
      "              'workspace\",\"Self check-in\",Keypad,\"Private entrance\",\"Pack ’n '\n",
      "              'Play/travel crib\",\"Room-darkening shades\"}',\n",
      " 'availability_30': 3,\n",
      " 'availability_365': 74,\n",
      " 'availability_60': 4,\n",
      " 'availability_90': 5,\n",
      " 'bathrooms': 1.0,\n",
      " 'bed_type': 'Real Bed',\n",
      " 'bedrooms': 1.0,\n",
      " 'beds': 2.0,\n",
      " 'calculated_host_listings_count': 1,\n",
      " 'calendar_last_scraped': '2018-12-06',\n",
      " 'calendar_updated': 'today',\n",
      " 'cancellation_policy': 'moderate',\n",
      " 'city': 'San Francisco',\n",
      " 'cleaning_fee': '$100.00',\n",
      " 'country': 'United States',\n",
      " 'country_code': 'US',\n",
      " 'description': 'Our bright garden unit overlooks a grassy backyard area with '\n",
      "                'fruit trees and native plants. It is an oasis in a big city. '\n",
      "                'The apartment comfortably fits a couple or small family. It '\n",
      "                'is located on a cul de sac street that ends at lovely Duboce '\n",
      "                'Park. Newly remodeled, modern, and bright garden unit in '\n",
      "                'historic Victorian home.  *New fixtures and finishes. '\n",
      "                '*Organic cotton sheets and towels. *Zero VOC and non-toxic '\n",
      "                'Yolo paint. *Organic and fair-trade teas, fresh local ground '\n",
      "                'coffee. *Local art on walls. *Sofa bed and Queen bed are in '\n",
      "                'the same room. More of a petite apartment with a separate '\n",
      "                'room for dining and kitchen. *Full access to patio and '\n",
      "                'backyard (shared with us and our dog who live upstairs) '\n",
      "                '*Beautiful garden with fruit trees, native plants and lawn '\n",
      "                \"*Washer and dryer *Children's toys *Charcoal grill A family \"\n",
      "                'of 4 lives upstairs with their dog. Normally we are able to '\n",
      "                'meet guests, but we like to give people their privacy and '\n",
      "                'mostly leave them alone. We are always available if anything',\n",
      " 'experiences_offered': 'none',\n",
      " 'extra_people': '$25.00',\n",
      " 'first_review': '2009-07-23',\n",
      " 'guests_included': 2,\n",
      " 'has_availability': 't',\n",
      " 'host_about': 'We are a family with 2 boys born in 2009 and 2011.  We have a '\n",
      "               'new puppy (Feb 2017) named Tucker who is part black lab and '\n",
      "               'part border collie.',\n",
      " 'host_acceptance_rate': nan,\n",
      " 'host_has_profile_pic': 't',\n",
      " 'host_id': 1169,\n",
      " 'host_identity_verified': 't',\n",
      " 'host_is_superhost': 't',\n",
      " 'host_listings_count': 1,\n",
      " 'host_location': 'San Francisco, California, United States',\n",
      " 'host_name': 'Holly',\n",
      " 'host_neighbourhood': 'Duboce Triangle',\n",
      " 'host_picture_url': 'https://a0.muscache.com/im/pictures/efdad96a-3efc-4bc2-bdc9-f69740a5a818.jpg?aki_policy=profile_x_medium',\n",
      " 'host_response_rate': nan,\n",
      " 'host_response_time': nan,\n",
      " 'host_since': '2008-07-31',\n",
      " 'host_thumbnail_url': 'https://a0.muscache.com/im/pictures/efdad96a-3efc-4bc2-bdc9-f69740a5a818.jpg?aki_policy=profile_small',\n",
      " 'host_total_listings_count': 1,\n",
      " 'host_url': 'https://www.airbnb.com/users/show/1169',\n",
      " 'host_verifications': \"['email', 'phone', 'facebook', 'reviews', 'kba']\",\n",
      " 'house_rules': '* No Pets - even visiting guests for a short time period. * '\n",
      "                'No Smokers allowed - even if smoking off premises.',\n",
      " 'id': 958,\n",
      " 'instant_bookable': 't',\n",
      " 'interaction': 'A family of 4 lives upstairs with their dog. Normally we are '\n",
      "                'able to meet guests, but we like to give people their privacy '\n",
      "                'and mostly leave them alone. We are always available if '\n",
      "                'anything is needed or questions need to be answered.',\n",
      " 'is_business_travel_ready': 'f',\n",
      " 'is_location_exact': 't',\n",
      " 'jurisdiction_names': '{\"SAN FRANCISCO\"}',\n",
      " 'last_review': '2018-11-16',\n",
      " 'last_scraped': '2018-12-06',\n",
      " 'latitude': 37.76931037734077,\n",
      " 'license': 'STR-0001256',\n",
      " 'listing_url': 'https://www.airbnb.com/rooms/958',\n",
      " 'longitude': -122.43385634489,\n",
      " 'market': 'San Francisco',\n",
      " 'maximum_nights': 30,\n",
      " 'medium_url': nan,\n",
      " 'minimum_nights': 1,\n",
      " 'monthly_price': '$4,200.00',\n",
      " 'name': 'Bright, Modern Garden Unit - 1BR/1B',\n",
      " 'neighborhood_overview': '*Quiet cul de sac in friendly neighborhood *Steps '\n",
      "                          'away from grassy park with 2 playgrounds and '\n",
      "                          'Recreational Center *Very family-friendly '\n",
      "                          'neighborhood *Quaint shops, grocery stores and '\n",
      "                          'restaurants all within a 5-10 minute walk',\n",
      " 'neighbourhood': 'Duboce Triangle',\n",
      " 'neighbourhood_cleansed': 'Western Addition',\n",
      " 'neighbourhood_group_cleansed': nan,\n",
      " 'notes': 'Due to the fact that we have children and a dog, we are up early '\n",
      "          '7-8am and their footsteps or paws can be heard from the apartment. '\n",
      "          'Our place is ideal for early risers or hard sleepers who appreciate '\n",
      "          'quiet evenings more than late mornings.',\n",
      " 'number_of_reviews': 172,\n",
      " 'picture_url': 'https://a0.muscache.com/im/pictures/b7c2a199-4c17-4ba6-b81d-751719d2dac6.jpg?aki_policy=large',\n",
      " 'price': '$170.00',\n",
      " 'property_type': 'Apartment',\n",
      " 'require_guest_phone_verification': 'f',\n",
      " 'require_guest_profile_picture': 'f',\n",
      " 'requires_license': 't',\n",
      " 'review_scores_accuracy': 10.0,\n",
      " 'review_scores_checkin': 10.0,\n",
      " 'review_scores_cleanliness': 10.0,\n",
      " 'review_scores_communication': 10.0,\n",
      " 'review_scores_location': 10.0,\n",
      " 'review_scores_rating': 97.0,\n",
      " 'review_scores_value': 10.0,\n",
      " 'reviews_per_month': 1.51,\n",
      " 'room_type': 'Entire home/apt',\n",
      " 'scrape_id': 20181206023014,\n",
      " 'security_deposit': '$100.00',\n",
      " 'smart_location': 'San Francisco, CA',\n",
      " 'space': 'Newly remodeled, modern, and bright garden unit in historic '\n",
      "          'Victorian home.  *New fixtures and finishes. *Organic cotton sheets '\n",
      "          'and towels. *Zero VOC and non-toxic Yolo paint. *Organic and '\n",
      "          'fair-trade teas, fresh local ground coffee. *Local art on walls. '\n",
      "          '*Sofa bed and Queen bed are in the same room. More of a petite '\n",
      "          'apartment with a separate room for dining and kitchen.',\n",
      " 'square_feet': nan,\n",
      " 'state': 'CA',\n",
      " 'street': 'San Francisco, CA, United States',\n",
      " 'summary': 'Our bright garden unit overlooks a grassy backyard area with '\n",
      "            'fruit trees and native plants. It is an oasis in a big city. The '\n",
      "            'apartment comfortably fits a couple or small family. It is '\n",
      "            'located on a cul de sac street that ends at lovely Duboce Park.',\n",
      " 'thumbnail_url': nan,\n",
      " 'transit': '*Public Transportation is 1/2 block away.  *Centrally located '\n",
      "            'with easy access to major lines of public transportation '\n",
      "            '(N-Judah, Haight #7, J-Church, Fillmore, and Bart) *No Parking is '\n",
      "            'offered.  *Street parking is unmetered. From 9AM - 8PM restricted '\n",
      "            'to two hours per space (this is the case for residential street '\n",
      "            'parking city wide).  *Overnight and weekend parking on the street '\n",
      "            'is unrestricted.  *Street cleaning happens at least 2 times a '\n",
      "            'week on most streets. *Taxis suggested for Airport trips',\n",
      " 'weekly_price': '$1,120.00',\n",
      " 'xl_picture_url': nan,\n",
      " 'zipcode': 94117.0}\n"
     ]
    }
   ],
   "source": [
    "import pprint\n",
    "pprint.pprint(db.airbnb.find_one())"
   ]
  },
  {
   "cell_type": "code",
   "execution_count": 1,
   "metadata": {},
   "outputs": [],
   "source": [
    "# db.collection_names(include_system_collections=False)"
   ]
  },
  {
   "cell_type": "markdown",
   "metadata": {},
   "source": [
    "__Checking no of documents in collection__"
   ]
  },
  {
   "cell_type": "code",
   "execution_count": null,
   "metadata": {},
   "outputs": [],
   "source": [
    "data = pd.DataFrame(list(db.airbnb.find()))"
   ]
  },
  {
   "cell_type": "code",
   "execution_count": null,
   "metadata": {},
   "outputs": [],
   "source": [
    "data.shape"
   ]
  },
  {
   "cell_type": "markdown",
   "metadata": {},
   "source": [
    "__Creating pickle and csv of data for further use__"
   ]
  },
  {
   "cell_type": "code",
   "execution_count": 13,
   "metadata": {},
   "outputs": [],
   "source": [
    "data.to_pickle(\"/Users/admin/Documents/GitHub/Project-4/original_listing.pkl\")"
   ]
  },
  {
   "cell_type": "code",
   "execution_count": null,
   "metadata": {},
   "outputs": [],
   "source": [
    "data.to_csv(\"/Users/admin/latest_airbnb.csv\")"
   ]
  }
 ],
 "metadata": {
  "kernelspec": {
   "display_name": "Python 3",
   "language": "python",
   "name": "python3"
  },
  "language_info": {
   "codemirror_mode": {
    "name": "ipython",
    "version": 3
   },
   "file_extension": ".py",
   "mimetype": "text/x-python",
   "name": "python",
   "nbconvert_exporter": "python",
   "pygments_lexer": "ipython3",
   "version": "3.6.8"
  }
 },
 "nbformat": 4,
 "nbformat_minor": 2
}
